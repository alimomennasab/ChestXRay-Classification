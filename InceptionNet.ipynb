{
  "nbformat": 4,
  "nbformat_minor": 0,
  "metadata": {
    "colab": {
      "provenance": [],
      "include_colab_link": true
    },
    "kernelspec": {
      "name": "python3",
      "display_name": "Python 3"
    },
    "language_info": {
      "name": "python"
    },
    "accelerator": "GPU",
    "gpuClass": "standard"
  },
  "cells": [
    {
      "cell_type": "markdown",
      "metadata": {
        "id": "view-in-github",
        "colab_type": "text"
      },
      "source": [
        "<a href=\"https://colab.research.google.com/github/alimomennasab/ChestXRay-Classification/blob/main/InceptionNet.ipynb\" target=\"_parent\"><img src=\"https://colab.research.google.com/assets/colab-badge.svg\" alt=\"Open In Colab\"/></a>"
      ]
    },
    {
      "cell_type": "markdown",
      "source": [
        "##1. Setup"
      ],
      "metadata": {
        "id": "f7YY1a9ftH2n"
      }
    },
    {
      "cell_type": "code",
      "execution_count": null,
      "metadata": {
        "id": "x2Mp07qutD8R"
      },
      "outputs": [],
      "source": [
        "import torch\n",
        "import torch.nn as nn\n",
        "import torch.optim as optim\n",
        "import torchvision.datasets as datasets\n",
        "import torchvision.transforms as transforms\n",
        "import torch.nn.functional as F\n",
        "import pandas as pd\n",
        "import os\n",
        "import numpy as np\n",
        "from PIL import Image\n",
        "from glob import glob\n",
        "from torch.utils.data import Dataset, DataLoader\n",
        "from torch.optim.lr_scheduler import ReduceLROnPlateau\n",
        "from torchvision.datasets import ImageFolder"
      ]
    },
    {
      "cell_type": "code",
      "source": [
        "from google.colab import drive\n",
        "drive.mount('/content/drive')"
      ],
      "metadata": {
        "colab": {
          "base_uri": "https://localhost:8080/"
        },
        "id": "WdwmTK49tJ2t",
        "outputId": "d034979b-ba84-40d7-860f-92fb6d10769e"
      },
      "execution_count": null,
      "outputs": [
        {
          "output_type": "stream",
          "name": "stdout",
          "text": [
            "Drive already mounted at /content/drive; to attempt to forcibly remount, call drive.mount(\"/content/drive\", force_remount=True).\n"
          ]
        }
      ]
    },
    {
      "cell_type": "code",
      "source": [
        "device = torch.device('cuda' if torch.cuda.is_available() else 'cpu')"
      ],
      "metadata": {
        "id": "dUP7WRV9tLrW"
      },
      "execution_count": null,
      "outputs": []
    },
    {
      "cell_type": "markdown",
      "source": [
        "##2. Loading Data"
      ],
      "metadata": {
        "id": "1anQwP9TtPWU"
      }
    },
    {
      "cell_type": "code",
      "source": [
        "data_dir = '/content/drive/My Drive/chest_xray/'"
      ],
      "metadata": {
        "id": "HZxQEspSqy7U"
      },
      "execution_count": null,
      "outputs": []
    },
    {
      "cell_type": "code",
      "source": [
        "# Split dataset into training, validation, and test sets\n",
        "train_dir = os.path.join(data_dir, 'train')\n",
        "val_dir = os.path.join(data_dir, 'val')\n",
        "test_dir = os.path.join(data_dir, 'test')"
      ],
      "metadata": {
        "id": "ybjQs30-xiJu"
      },
      "execution_count": null,
      "outputs": []
    },
    {
      "cell_type": "code",
      "source": [
        "print(os.listdir(data_dir))\n",
        "classes = os.listdir(data_dir + \"/train\")\n",
        "print(classes)"
      ],
      "metadata": {
        "colab": {
          "base_uri": "https://localhost:8080/"
        },
        "id": "qRaV4S-mqzTQ",
        "outputId": "e98a73f8-6d4d-415b-f167-aa068c807573"
      },
      "execution_count": null,
      "outputs": [
        {
          "output_type": "stream",
          "name": "stdout",
          "text": [
            "['test', 'val', 'train']\n",
            "['PNEUMONIA', 'NORMAL']\n"
          ]
        }
      ]
    },
    {
      "cell_type": "code",
      "source": [
        "# Pneumonia images\n",
        "pneumonia_files = os.listdir(data_dir + \"/train/PNEUMONIA\")\n",
        "print('No. of training examples for Pneumonia:', len(pneumonia_files))\n",
        "print(pneumonia_files[:5])"
      ],
      "metadata": {
        "colab": {
          "base_uri": "https://localhost:8080/"
        },
        "id": "3gWxaHBuq0zm",
        "outputId": "60187ab3-9118-4f48-9899-d960a4db9fee"
      },
      "execution_count": null,
      "outputs": [
        {
          "output_type": "stream",
          "name": "stdout",
          "text": [
            "No. of training examples for Pneumonia: 3875\n",
            "['person557_virus_1097.jpeg', 'person553_bacteria_2316.jpeg', 'person537_bacteria_2264.jpeg', 'person543_bacteria_2281.jpeg', 'person496_virus_1003.jpeg']\n"
          ]
        }
      ]
    },
    {
      "cell_type": "code",
      "source": [
        "# Normal (healthy) images\n",
        "normal_files = os.listdir(data_dir + \"/train/NORMAL\")\n",
        "print('No. of training examples for Normal:', len(normal_files))\n",
        "print(normal_files[:5])"
      ],
      "metadata": {
        "colab": {
          "base_uri": "https://localhost:8080/"
        },
        "id": "_giGIFw-q3FL",
        "outputId": "576c680f-3276-488f-ac20-75728b3c54a2"
      },
      "execution_count": null,
      "outputs": [
        {
          "output_type": "stream",
          "name": "stdout",
          "text": [
            "No. of training examples for Normal: 1341\n",
            "['IM-0524-0001.jpeg', 'IM-0515-0001.jpeg', 'IM-0508-0001.jpeg', 'IM-0516-0001.jpeg', 'IM-0511-0001-0002.jpeg']\n"
          ]
        }
      ]
    },
    {
      "cell_type": "code",
      "source": [
        "# There are almost three times more pneumonia images than normal images, so we will use class weighing\n",
        "\n",
        "# Define classes\n",
        "classes = ['NORMAL', 'PNEUMONIA']\n",
        "\n",
        "# Define class weights\n",
        "num_pneumonia_train = len(os.listdir(os.path.join(train_dir, classes[1])))\n",
        "num_normal_train = len(os.listdir(os.path.join(train_dir, classes[0])))\n",
        "total_train = num_pneumonia_train + num_normal_train\n",
        "class_weights = torch.tensor([total_train/num_normal_train, total_train/num_pneumonia_train]).to(device)"
      ],
      "metadata": {
        "id": "_97oRq9wq4am"
      },
      "execution_count": null,
      "outputs": []
    },
    {
      "cell_type": "markdown",
      "source": [
        "##3. Preparing Dataset & Dataloader"
      ],
      "metadata": {
        "id": "tMxIUYPItSLR"
      }
    },
    {
      "cell_type": "code",
      "source": [
        "# Define transforms\n",
        "train_transform = transforms.Compose([\n",
        "    transforms.RandomResizedCrop(224),\n",
        "    transforms.RandomHorizontalFlip(),\n",
        "    transforms.RandomAffine(degrees=10, translate=(0.05,0.05)),\n",
        "    transforms.ColorJitter(brightness=0.4, contrast=0.4, saturation=0.4, hue=0.1),\n",
        "    transforms.ToTensor(),\n",
        "    transforms.Normalize((0.5), (0.5))\n",
        "])\n",
        "\n",
        "val_and_test_transform = transforms.Compose([\n",
        "    transforms.Resize(256),\n",
        "    transforms.CenterCrop(224),\n",
        "    transforms.ToTensor(),\n",
        "    transforms.Normalize((0.5), (0.5))\n",
        "])"
      ],
      "metadata": {
        "id": "NgTpa4vbq7wq"
      },
      "execution_count": null,
      "outputs": []
    },
    {
      "cell_type": "code",
      "source": [
        "# Define data directories. We won't use a custom class because the dataset is already well-formatted.\n",
        "\n",
        "train_dataset = ImageFolder('/content/drive/My Drive/chest_xray/train', transform = train_transform)\n",
        "val_dataset = ImageFolder('/content/drive/My Drive/chest_xray/val', transform = val_and_test_transform)\n",
        "test_dataset = ImageFolder('/content/drive/My Drive/chest_xray/test', transform = val_and_test_transform)\n",
        "\n",
        "train_loader = DataLoader(train_dataset, batch_size = 16, shuffle = True)\n",
        "val_loader = DataLoader(val_dataset, batch_size = 16, shuffle = False)\n",
        "test_loader = DataLoader(test_dataset, batch_size = 16, shuffle = False)"
      ],
      "metadata": {
        "id": "JPwWulGxq9Ry"
      },
      "execution_count": null,
      "outputs": []
    },
    {
      "cell_type": "markdown",
      "source": [
        "##4. Defining Model"
      ],
      "metadata": {
        "id": "CEC4YomTKptS"
      }
    },
    {
      "cell_type": "code",
      "source": [
        "class InceptionNet(nn.Module):\n",
        "    def __init__(self, aux_logits=True, num_classes=2):\n",
        "        super(InceptionNet, self).__init__()\n",
        "        assert aux_logits == True or aux_logits == False\n",
        "        self.aux_logits = aux_logits\n",
        "\n",
        "        # Write in_channels, etc, all explicit in self.conv1, rest will write to\n",
        "        # make everything as compact as possible, kernel_size=3 instead of (3,3)\n",
        "        self.conv1 = ConvBlock(\n",
        "            in_channels=3,\n",
        "            out_channels=64,\n",
        "            kernel_size=7,\n",
        "            stride=2,\n",
        "            padding=3,\n",
        "        )\n",
        "\n",
        "        self.maxpool1 = nn.MaxPool2d(kernel_size=3, stride=2, padding=1)\n",
        "        self.conv2 = ConvBlock(64, 192, kernel_size=3, stride=1, padding=1)\n",
        "        self.maxpool2 = nn.MaxPool2d(kernel_size=3, stride=2, padding=1)\n",
        "\n",
        "        # In this order: in_channels, out_1x1, red_3x3, out_3x3, red_5x5, out_5x5, out_1x1pool\n",
        "        self.inception3a = InceptionBlock(192, 64, 96, 128, 16, 32, 32)\n",
        "        self.inception3b = InceptionBlock(256, 128, 128, 192, 32, 96, 64)\n",
        "        self.maxpool3 = nn.MaxPool2d(kernel_size=3, stride=2, padding=1)\n",
        "\n",
        "        self.inception4a = InceptionBlock(480, 192, 96, 208, 16, 48, 64)\n",
        "        self.inception4b = InceptionBlock(512, 160, 112, 224, 24, 64, 64)\n",
        "        self.inception4c = InceptionBlock(512, 128, 128, 256, 24, 64, 64)\n",
        "        self.inception4d = InceptionBlock(512, 112, 144, 288, 32, 64, 64)\n",
        "        self.inception4e = InceptionBlock(528, 256, 160, 320, 32, 128, 128)\n",
        "        self.maxpool4 = nn.MaxPool2d(kernel_size=3, stride=2, padding=1)\n",
        "\n",
        "        self.inception5a = InceptionBlock(832, 256, 160, 320, 32, 128, 128)\n",
        "        self.inception5b = InceptionBlock(832, 384, 192, 384, 48, 128, 128)\n",
        "\n",
        "        self.avgpool = nn.AvgPool2d(kernel_size=7, stride=1)\n",
        "        self.dropout = nn.Dropout(p=0.4)\n",
        "        self.fc1 = nn.Linear(1024, num_classes)\n",
        "\n",
        "        if self.aux_logits:\n",
        "            self.aux1 = InceptionAux(512, num_classes)\n",
        "            self.aux2 = InceptionAux(528, num_classes)\n",
        "        else:\n",
        "            self.aux1 = self.aux2 = None\n",
        "\n",
        "    def forward(self, x):\n",
        "        x = self.conv1(x)\n",
        "        x = self.maxpool1(x)\n",
        "        x = self.conv2(x)\n",
        "        x = self.maxpool2(x)\n",
        "\n",
        "        x = self.inception3a(x)\n",
        "        x = self.inception3b(x)\n",
        "        x = self.maxpool3(x)\n",
        "\n",
        "        x = self.inception4a(x)\n",
        "\n",
        "        # Auxiliary Softmax classifier 1\n",
        "        if self.aux_logits and self.training:\n",
        "            aux1 = self.aux1(x)\n",
        "\n",
        "        x = self.inception4b(x)\n",
        "        x = self.inception4c(x)\n",
        "        x = self.inception4d(x)\n",
        "\n",
        "        # Auxiliary Softmax classifier 2\n",
        "        if self.aux_logits and self.training:\n",
        "            aux2 = self.aux2(x)\n",
        "\n",
        "        x = self.inception4e(x)\n",
        "        x = self.maxpool4(x)\n",
        "        x = self.inception5a(x)\n",
        "        x = self.inception5b(x)\n",
        "        x = self.avgpool(x)\n",
        "        x = x.reshape(x.shape[0], -1)\n",
        "        x = self.dropout(x)\n",
        "        x = self.fc1(x)\n",
        "\n",
        "        if self.aux_logits and self.training:\n",
        "            return aux1, aux2, x\n",
        "        else:\n",
        "            return x\n",
        "\n",
        "\n",
        "class InceptionBlock(nn.Module):\n",
        "    def __init__(\n",
        "        self, in_channels, out_1x1, red_3x3, out_3x3, red_5x5, out_5x5, out_1x1pool\n",
        "    ):\n",
        "        super(InceptionBlock, self).__init__()\n",
        "        self.branch1 = ConvBlock(in_channels, out_1x1, kernel_size=1)\n",
        "\n",
        "        self.branch2 = nn.Sequential(\n",
        "            ConvBlock(in_channels, red_3x3, kernel_size=1),\n",
        "            ConvBlock(red_3x3, out_3x3, kernel_size=(3, 3), padding=1),\n",
        "        )\n",
        "\n",
        "        self.branch3 = nn.Sequential(\n",
        "            ConvBlock(in_channels, red_5x5, kernel_size=1),\n",
        "            ConvBlock(red_5x5, out_5x5, kernel_size=5, padding=2),\n",
        "        )\n",
        "\n",
        "        self.branch4 = nn.Sequential(\n",
        "            nn.MaxPool2d(kernel_size=3, stride=1, padding=1),\n",
        "            ConvBlock(in_channels, out_1x1pool, kernel_size=1),\n",
        "        )\n",
        "\n",
        "    def forward(self, x):\n",
        "        return torch.cat(\n",
        "            [self.branch1(x), self.branch2(x), self.branch3(x), self.branch4(x)], 1\n",
        "        )\n",
        "\n",
        "\n",
        "class InceptionAux(nn.Module):\n",
        "    def __init__(self, in_channels, num_classes):\n",
        "        super(InceptionAux, self).__init__()\n",
        "        self.relu = nn.ReLU()\n",
        "        self.dropout = nn.Dropout(p=0.7)\n",
        "        self.pool = nn.AvgPool2d(kernel_size=5, stride=3)\n",
        "        self.conv = ConvBlock(in_channels, 128, kernel_size=1)\n",
        "        self.fc1 = nn.Linear(2048, 1024)\n",
        "        self.fc2 = nn.Linear(1024, num_classes)\n",
        "\n",
        "    def forward(self, x):\n",
        "        x = self.pool(x)\n",
        "        x = self.conv(x)\n",
        "        x = x.reshape(x.shape[0], -1)\n",
        "        x = self.relu(self.fc1(x))\n",
        "        x = self.dropout(x)\n",
        "        x = self.fc2(x)\n",
        "        return x\n",
        "\n",
        "\n",
        "class ConvBlock(nn.Module):\n",
        "    def __init__(self, in_channels, out_channels, **kwargs):\n",
        "        super(ConvBlock, self).__init__()\n",
        "        self.relu = nn.ReLU()\n",
        "        self.conv = nn.Conv2d(in_channels, out_channels, **kwargs)\n",
        "        self.batchnorm = nn.BatchNorm2d(out_channels)\n",
        "\n",
        "    def forward(self, x):\n",
        "        return self.relu(self.batchnorm(self.conv(x)))"
      ],
      "metadata": {
        "id": "sfjc8w1BKops"
      },
      "execution_count": null,
      "outputs": []
    },
    {
      "cell_type": "code",
      "source": [
        "# Initializing model\n",
        "model = InceptionNet(aux_logits=True, num_classes=2)"
      ],
      "metadata": {
        "id": "0CLQo6KhngSC"
      },
      "execution_count": null,
      "outputs": []
    },
    {
      "cell_type": "code",
      "source": [
        "if torch.cuda.is_available():\n",
        "    model.cuda()"
      ],
      "metadata": {
        "id": "MxM7XdpkpM0O"
      },
      "execution_count": null,
      "outputs": []
    },
    {
      "cell_type": "markdown",
      "source": [
        "##5. Testing Model"
      ],
      "metadata": {
        "id": "H4uQTSgHKtxb"
      }
    },
    {
      "cell_type": "code",
      "source": [
        "BATCH_SIZE = 8\n",
        "x = torch.randn(BATCH_SIZE, 3, 224, 224).to(device)\n",
        "print(model(x)[2].shape)"
      ],
      "metadata": {
        "colab": {
          "base_uri": "https://localhost:8080/"
        },
        "id": "m4bQNWJj4Klf",
        "outputId": "7afc0942-e994-4c03-d66b-3348ac645965"
      },
      "execution_count": null,
      "outputs": [
        {
          "output_type": "stream",
          "name": "stdout",
          "text": [
            "torch.Size([8, 2])\n"
          ]
        }
      ]
    },
    {
      "cell_type": "markdown",
      "source": [
        "##6. Defining Main Training Loop"
      ],
      "metadata": {
        "id": "ybj9_xm7Kv3y"
      }
    },
    {
      "cell_type": "code",
      "source": [
        "# Hyper-parameters\n",
        "num_epochs = 30\n",
        "learning_rate = 0.001\n",
        "patience = 10"
      ],
      "metadata": {
        "id": "8SZYMwoBpYgo"
      },
      "execution_count": null,
      "outputs": []
    },
    {
      "cell_type": "code",
      "source": [
        "# Loss and optimizer\n",
        "criterion = nn.CrossEntropyLoss(weight=class_weights)\n",
        "optimizer = torch.optim.Adam(model.parameters(), lr=learning_rate)\n",
        "\n",
        "curr_lr = learning_rate\n",
        "total_step = len(train_loader)\n",
        "\n",
        "# Early stopping parameters\n",
        "early_stopping_counter = 0\n",
        "best_loss = float('inf')\n",
        "\n",
        "# For updating learning rate\n",
        "def update_lr(optimizer, lr):    \n",
        "    for param_group in optimizer.param_groups:\n",
        "        param_group['lr'] = lr\n",
        "\n",
        "\n",
        "for epoch in range(num_epochs):\n",
        "    for i, (images, labels) in enumerate(train_loader):\n",
        "        images, labels = images.to(device), labels.to(device)\n",
        "        \n",
        "        optimizer.zero_grad()\n",
        "\n",
        "        # forward pass\n",
        "        outputs, aux1, aux2 = model(images)\n",
        "\n",
        "        # calculate loss for each output\n",
        "        loss1 = F.cross_entropy(outputs, labels)\n",
        "        loss2 = F.cross_entropy(aux1, labels)\n",
        "        loss3 = F.cross_entropy(aux2, labels)\n",
        "\n",
        "        # combine losses\n",
        "        loss = loss1 + 0.3 * (loss2 + loss3)\n",
        "\n",
        "        # backward pass and optimize\n",
        "        loss.backward()\n",
        "        optimizer.step()\n",
        "        \n",
        "        if (i+1) % 100 == 0:\n",
        "            print (\"Epoch [{}/{}], Step [{}/{}] Loss: {:.4f}\"\n",
        "                   .format(epoch+1, num_epochs, i+1, total_step, loss.item()))\n",
        "    \n",
        "    # Decay learning rate\n",
        "    if (epoch+1) % 20 == 0:\n",
        "        curr_lr /= 3\n",
        "        update_lr(optimizer, curr_lr)\n",
        "\n",
        "    # Calculate validation loss\n",
        "    with torch.no_grad():\n",
        "        val_loss = 0\n",
        "        for images, labels in val_loader:\n",
        "            images, labels = images.to(device), labels.to(device)\n",
        "            outputs = model(images)\n",
        "            val_loss += criterion(outputs[-1], labels)\n",
        "        val_loss /= len(val_loader)\n",
        "\n",
        "        # Save the model if the validation loss is the best observed yet\n",
        "        if val_loss < best_loss:\n",
        "            print(f'Saving model with validation loss of {val_loss:.4f}...')\n",
        "            torch.save(model.state_dict(), 'best_model.pth')\n",
        "            best_loss = val_loss\n",
        "\n",
        "    # Early stopping if overfitting\n",
        "    if early_stopping_counter >= patience:\n",
        "        print(f'Validation loss has not improved for {patience} epochs. Early stopping...')\n",
        "        break\n",
        "    elif val_loss < best_loss:\n",
        "        best_loss = val_loss\n",
        "        early_stopping_counter = 0\n"
      ],
      "metadata": {
        "colab": {
          "base_uri": "https://localhost:8080/"
        },
        "id": "wgOQvYhgKz0X",
        "outputId": "ce16c660-8db8-4926-b851-c522c1b6bcee"
      },
      "execution_count": null,
      "outputs": [
        {
          "output_type": "stream",
          "name": "stdout",
          "text": [
            "Epoch [1/30], Step [100/326] Loss: 0.5296\n",
            "Epoch [1/30], Step [200/326] Loss: 0.7329\n",
            "Epoch [1/30], Step [300/326] Loss: 0.9161\n",
            "Saving model with validation loss of 0.9548...\n",
            "Epoch [2/30], Step [100/326] Loss: 0.4958\n",
            "Epoch [2/30], Step [200/326] Loss: 0.6136\n",
            "Epoch [2/30], Step [300/326] Loss: 0.6954\n",
            "Epoch [3/30], Step [100/326] Loss: 0.9199\n",
            "Epoch [3/30], Step [200/326] Loss: 0.8904\n",
            "Epoch [3/30], Step [300/326] Loss: 0.5218\n",
            "Epoch [4/30], Step [100/326] Loss: 0.6482\n",
            "Epoch [4/30], Step [200/326] Loss: 0.3929\n",
            "Epoch [4/30], Step [300/326] Loss: 0.7486\n",
            "Epoch [5/30], Step [100/326] Loss: 1.1614\n",
            "Epoch [5/30], Step [200/326] Loss: 0.2553\n",
            "Epoch [5/30], Step [300/326] Loss: 0.6073\n",
            "Epoch [6/30], Step [100/326] Loss: 0.7546\n",
            "Epoch [6/30], Step [200/326] Loss: 0.4815\n",
            "Epoch [6/30], Step [300/326] Loss: 0.4207\n",
            "Epoch [7/30], Step [100/326] Loss: 0.3691\n",
            "Epoch [7/30], Step [200/326] Loss: 0.5076\n",
            "Epoch [7/30], Step [300/326] Loss: 0.3044\n",
            "Epoch [8/30], Step [100/326] Loss: 0.6557\n",
            "Epoch [8/30], Step [200/326] Loss: 0.6534\n",
            "Epoch [8/30], Step [300/326] Loss: 0.7958\n",
            "Epoch [9/30], Step [100/326] Loss: 0.4607\n",
            "Epoch [9/30], Step [200/326] Loss: 0.3086\n",
            "Epoch [9/30], Step [300/326] Loss: 0.3515\n",
            "Epoch [10/30], Step [100/326] Loss: 0.4756\n",
            "Epoch [10/30], Step [200/326] Loss: 0.4343\n",
            "Epoch [10/30], Step [300/326] Loss: 0.6418\n",
            "Epoch [11/30], Step [100/326] Loss: 0.6023\n",
            "Epoch [11/30], Step [200/326] Loss: 0.2344\n",
            "Epoch [11/30], Step [300/326] Loss: 0.6369\n",
            "Epoch [12/30], Step [100/326] Loss: 0.3731\n",
            "Epoch [12/30], Step [200/326] Loss: 0.6077\n",
            "Epoch [12/30], Step [300/326] Loss: 0.3137\n",
            "Epoch [13/30], Step [100/326] Loss: 0.4834\n",
            "Epoch [13/30], Step [200/326] Loss: 0.5134\n",
            "Epoch [13/30], Step [300/326] Loss: 0.3940\n",
            "Epoch [14/30], Step [100/326] Loss: 0.2233\n",
            "Epoch [14/30], Step [200/326] Loss: 0.4262\n",
            "Epoch [14/30], Step [300/326] Loss: 0.4679\n",
            "Epoch [15/30], Step [100/326] Loss: 0.4257\n",
            "Epoch [15/30], Step [200/326] Loss: 0.6208\n",
            "Epoch [15/30], Step [300/326] Loss: 0.7890\n",
            "Epoch [16/30], Step [100/326] Loss: 0.3885\n",
            "Epoch [16/30], Step [200/326] Loss: 0.3597\n",
            "Epoch [16/30], Step [300/326] Loss: 0.4010\n",
            "Epoch [17/30], Step [100/326] Loss: 0.3609\n",
            "Epoch [17/30], Step [200/326] Loss: 0.7593\n",
            "Epoch [17/30], Step [300/326] Loss: 0.2439\n",
            "Epoch [18/30], Step [100/326] Loss: 0.3303\n",
            "Epoch [18/30], Step [200/326] Loss: 0.3575\n",
            "Epoch [18/30], Step [300/326] Loss: 0.5234\n",
            "Epoch [19/30], Step [100/326] Loss: 0.2648\n",
            "Epoch [19/30], Step [200/326] Loss: 0.7820\n",
            "Epoch [19/30], Step [300/326] Loss: 0.3929\n",
            "Epoch [20/30], Step [100/326] Loss: 0.1681\n",
            "Epoch [20/30], Step [200/326] Loss: 0.3150\n",
            "Epoch [20/30], Step [300/326] Loss: 0.1363\n",
            "Epoch [21/30], Step [100/326] Loss: 0.2339\n",
            "Epoch [21/30], Step [200/326] Loss: 0.1165\n",
            "Epoch [21/30], Step [300/326] Loss: 0.4165\n",
            "Epoch [22/30], Step [100/326] Loss: 0.3375\n",
            "Epoch [22/30], Step [200/326] Loss: 0.2954\n",
            "Epoch [22/30], Step [300/326] Loss: 0.2577\n",
            "Epoch [23/30], Step [100/326] Loss: 0.2113\n",
            "Epoch [23/30], Step [200/326] Loss: 0.2081\n",
            "Epoch [23/30], Step [300/326] Loss: 0.7195\n",
            "Epoch [24/30], Step [100/326] Loss: 0.5053\n",
            "Epoch [24/30], Step [200/326] Loss: 0.4697\n",
            "Epoch [24/30], Step [300/326] Loss: 0.4488\n",
            "Epoch [25/30], Step [100/326] Loss: 0.4752\n",
            "Epoch [25/30], Step [200/326] Loss: 0.0965\n",
            "Epoch [25/30], Step [300/326] Loss: 0.6052\n",
            "Epoch [26/30], Step [100/326] Loss: 0.1539\n",
            "Epoch [26/30], Step [200/326] Loss: 0.1092\n",
            "Epoch [26/30], Step [300/326] Loss: 0.3184\n",
            "Saving model with validation loss of 0.7630...\n",
            "Epoch [27/30], Step [100/326] Loss: 0.8384\n",
            "Epoch [27/30], Step [200/326] Loss: 0.1221\n",
            "Epoch [27/30], Step [300/326] Loss: 0.0714\n",
            "Epoch [28/30], Step [100/326] Loss: 0.1195\n",
            "Epoch [28/30], Step [200/326] Loss: 0.3760\n",
            "Epoch [28/30], Step [300/326] Loss: 0.5757\n",
            "Epoch [29/30], Step [100/326] Loss: 0.6087\n",
            "Epoch [29/30], Step [200/326] Loss: 0.1819\n",
            "Epoch [29/30], Step [300/326] Loss: 0.1708\n",
            "Epoch [30/30], Step [100/326] Loss: 0.0783\n",
            "Epoch [30/30], Step [200/326] Loss: 0.3890\n",
            "Epoch [30/30], Step [300/326] Loss: 0.1167\n"
          ]
        }
      ]
    },
    {
      "cell_type": "markdown",
      "source": [
        "##7. Testing"
      ],
      "metadata": {
        "id": "dPJtvXR7K1jk"
      }
    },
    {
      "cell_type": "code",
      "source": [
        "# Load the saved model checkpoint\n",
        "checkpoint = torch.load('best_model.pth')\n",
        "model.load_state_dict(checkpoint)\n",
        "\n",
        "model.eval()\n",
        "with torch.no_grad():\n",
        "    correct = 0\n",
        "    total = 0\n",
        "    for images, labels in test_loader:\n",
        "        images = images.to(device)\n",
        "        labels = labels.to(device)\n",
        "        outputs = model(images)\n",
        "        _, predicted = torch.max(outputs.data, 1)\n",
        "        total += labels.size(0)\n",
        "        correct += (predicted == labels).sum().item()\n",
        "\n",
        "    print('Model accuracy on test images: {} %'.format(100 * correct / total))"
      ],
      "metadata": {
        "id": "JtdNJ54BpcGl",
        "colab": {
          "base_uri": "https://localhost:8080/"
        },
        "outputId": "6fc05a3c-7cd3-4e2c-e3fc-b0eb88ef568b"
      },
      "execution_count": null,
      "outputs": [
        {
          "output_type": "stream",
          "name": "stdout",
          "text": [
            "Model accuracy on test images: 92.94871794871794 %\n"
          ]
        }
      ]
    }
  ]
}