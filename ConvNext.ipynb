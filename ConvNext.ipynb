{
  "cells": [
    {
      "cell_type": "markdown",
      "metadata": {
        "id": "view-in-github",
        "colab_type": "text"
      },
      "source": [
        "<a href=\"https://colab.research.google.com/github/alimomennasab/ChestXRay-Classification/blob/main/ConvNext.ipynb\" target=\"_parent\"><img src=\"https://colab.research.google.com/assets/colab-badge.svg\" alt=\"Open In Colab\"/></a>"
      ]
    },
    {
      "cell_type": "markdown",
      "metadata": {
        "id": "pP9Y0fbLzw9I"
      },
      "source": [
        "##1. Setup"
      ]
    },
    {
      "cell_type": "code",
      "execution_count": null,
      "metadata": {
        "id": "nQRvCSqOiaqg"
      },
      "outputs": [],
      "source": [
        "import torch\n",
        "import torch.nn as nn\n",
        "import torch.optim as optim\n",
        "import torchvision.datasets as datasets\n",
        "import torchvision.transforms as transforms\n",
        "import pandas as pd\n",
        "import os\n",
        "import numpy as np\n",
        "from torchvision.ops import StochasticDepth\n",
        "from PIL import Image\n",
        "from glob import glob\n",
        "from torch.utils.data import Dataset, DataLoader\n",
        "from torchvision.datasets import ImageFolder\n",
        "from torch.optim.lr_scheduler import ReduceLROnPlateau"
      ]
    },
    {
      "cell_type": "code",
      "execution_count": null,
      "metadata": {
        "colab": {
          "base_uri": "https://localhost:8080/"
        },
        "id": "7j7RpSAQz34l",
        "outputId": "d579b6a4-587f-421a-a64b-82dfab056c17"
      },
      "outputs": [
        {
          "output_type": "stream",
          "name": "stdout",
          "text": [
            "Drive already mounted at /content/drive; to attempt to forcibly remount, call drive.mount(\"/content/drive\", force_remount=True).\n"
          ]
        }
      ],
      "source": [
        "from google.colab import drive\n",
        "drive.mount('/content/drive')"
      ]
    },
    {
      "cell_type": "code",
      "execution_count": null,
      "metadata": {
        "id": "uKRnJ5C-z4Pu"
      },
      "outputs": [],
      "source": [
        "device = torch.device('cuda' if torch.cuda.is_available() else 'cpu')"
      ]
    },
    {
      "cell_type": "markdown",
      "metadata": {
        "id": "CPls5vz6zznp"
      },
      "source": [
        "##2. Loading Data"
      ]
    },
    {
      "cell_type": "code",
      "execution_count": null,
      "metadata": {
        "id": "lW6oUmH5SGPs"
      },
      "outputs": [],
      "source": [
        "data_dir = '/content/drive/My Drive/chest_xray/'"
      ]
    },
    {
      "cell_type": "code",
      "execution_count": null,
      "metadata": {
        "id": "HKpTb3pLK1mF"
      },
      "outputs": [],
      "source": [
        "# Split dataset into training, validation, and test sets\n",
        "train_dir = os.path.join(data_dir, 'train')\n",
        "val_dir = os.path.join(data_dir, 'val')\n",
        "test_dir = os.path.join(data_dir, 'test')"
      ]
    },
    {
      "cell_type": "code",
      "execution_count": null,
      "metadata": {
        "colab": {
          "base_uri": "https://localhost:8080/"
        },
        "id": "zxi0-PleSQQC",
        "outputId": "d9753015-5c48-4623-ab79-5e45c2b83d79"
      },
      "outputs": [
        {
          "output_type": "stream",
          "name": "stdout",
          "text": [
            "['train', 'chest_xray', 'val', '__MACOSX', 'test']\n",
            "['PNEUMONIA', 'NORMAL']\n"
          ]
        }
      ],
      "source": [
        "print(os.listdir(data_dir))\n",
        "classes = os.listdir(data_dir + \"/train\")\n",
        "print(classes)"
      ]
    },
    {
      "cell_type": "code",
      "execution_count": null,
      "metadata": {
        "colab": {
          "base_uri": "https://localhost:8080/"
        },
        "id": "Spwu3fZfSWfH",
        "outputId": "04008a10-0ec4-4196-bd7a-6fa0c79b6708"
      },
      "outputs": [
        {
          "output_type": "stream",
          "name": "stdout",
          "text": [
            "No. of training examples for Pneumonia: 3875\n",
            "['person556_virus_1096.jpeg', 'person536_bacteria_2257.jpeg', 'person581_bacteria_2390.jpeg', 'person592_bacteria_2434.jpeg', 'person581_virus_1125.jpeg']\n"
          ]
        }
      ],
      "source": [
        "# Pneumonia images\n",
        "pneumonia_files = os.listdir(data_dir + \"/train/PNEUMONIA\")\n",
        "print('No. of training examples for Pneumonia:', len(pneumonia_files))\n",
        "print(pneumonia_files[:5])"
      ]
    },
    {
      "cell_type": "code",
      "execution_count": null,
      "metadata": {
        "colab": {
          "base_uri": "https://localhost:8080/"
        },
        "id": "k41O-OQZSdOy",
        "outputId": "596d309b-ab15-4fca-be65-e6b4d3729658"
      },
      "outputs": [
        {
          "output_type": "stream",
          "name": "stdout",
          "text": [
            "No. of training examples for Normal: 1341\n",
            "['IM-0526-0001.jpeg', 'IM-0524-0001.jpeg', 'IM-0507-0001.jpeg', 'IM-0508-0001.jpeg', 'IM-0520-0001.jpeg']\n"
          ]
        }
      ],
      "source": [
        "# Normal (healthy) images\n",
        "normal_files = os.listdir(data_dir + \"/train/NORMAL\")\n",
        "print('No. of training examples for Normal:', len(normal_files))\n",
        "print(normal_files[:5])"
      ]
    },
    {
      "cell_type": "code",
      "execution_count": null,
      "metadata": {
        "id": "W7f1dkPIyIAM"
      },
      "outputs": [],
      "source": [
        "# There are almost three times more pneumonia images than normal images, so we will use class weighing\n",
        "\n",
        "# Define classes\n",
        "classes = ['NORMAL', 'PNEUMONIA']\n",
        "\n",
        "# Define class weights\n",
        "num_pneumonia_train = len(os.listdir(os.path.join(train_dir, classes[1])))\n",
        "num_normal_train = len(os.listdir(os.path.join(train_dir, classes[0])))\n",
        "total_train = num_pneumonia_train + num_normal_train\n",
        "class_weights = torch.tensor([total_train/num_normal_train, total_train/num_pneumonia_train]).to(device)"
      ]
    },
    {
      "cell_type": "markdown",
      "metadata": {
        "id": "mW2QV9xoC2oO"
      },
      "source": [
        "##3. Preparing Dataset and DataLoader"
      ]
    },
    {
      "cell_type": "code",
      "execution_count": null,
      "metadata": {
        "id": "gCrAW01bDOzn"
      },
      "outputs": [],
      "source": [
        "# Define transforms\n",
        "train_transform = transforms.Compose([\n",
        "    transforms.RandomResizedCrop(224),\n",
        "    transforms.RandomHorizontalFlip(),\n",
        "    transforms.RandomAffine(degrees=10, translate=(0.05,0.05)),\n",
        "    transforms.ColorJitter(brightness=0.4, contrast=0.4, saturation=0.4, hue=0.1),\n",
        "    transforms.ToTensor(),\n",
        "    transforms.Normalize((0.5), (0.5))\n",
        "])\n",
        "\n",
        "val_and_test_transform = transforms.Compose([\n",
        "    transforms.Resize(256),\n",
        "    transforms.CenterCrop(224),\n",
        "    transforms.ToTensor(),\n",
        "    transforms.Normalize((0.5), (0.5))\n",
        "])"
      ]
    },
    {
      "cell_type": "code",
      "execution_count": null,
      "metadata": {
        "id": "GiSPsuL1VNGE"
      },
      "outputs": [],
      "source": [
        "# Define data directories. We won't use a custom class because the dataset is already well-formatted.\n",
        "\n",
        "train_dataset = ImageFolder('/content/drive/My Drive/chest_xray/train', transform = train_transform)\n",
        "val_dataset = ImageFolder('/content/drive/My Drive/chest_xray/val', transform = val_and_test_transform)\n",
        "test_dataset = ImageFolder('/content/drive/My Drive/chest_xray/test', transform = val_and_test_transform)\n",
        "\n",
        "train_loader = DataLoader(train_dataset, batch_size = 8, shuffle = True)\n",
        "val_loader = DataLoader(val_dataset, batch_size = 8, shuffle = False)\n",
        "test_loader = DataLoader(test_dataset, batch_size = 8, shuffle = False)"
      ]
    },
    {
      "cell_type": "markdown",
      "metadata": {
        "id": "QQuODp6wPduz"
      },
      "source": [
        "##4. Defining and Choosing Model"
      ]
    },
    {
      "cell_type": "code",
      "execution_count": null,
      "metadata": {
        "id": "IRL4xlErPfaH"
      },
      "outputs": [],
      "source": [
        "class LayerScaler(nn.Module):\n",
        "    def __init__(self, init_value: float, dimensions: int):\n",
        "        super().__init__()\n",
        "        self.gamma = nn.Parameter(init_value * torch.ones((dimensions)), \n",
        "                                    requires_grad=True)\n",
        "        \n",
        "class ConvNormAct(nn.Sequential):\n",
        "    # A little util layer composed by (conv) -> (norm) -> (act) layers. \n",
        "    def __init__(\n",
        "        self,\n",
        "        in_features: int,\n",
        "        out_features: int,\n",
        "        kernel_size: int,\n",
        "        norm = nn.BatchNorm2d,\n",
        "        act = nn.ReLU,\n",
        "        **kwargs\n",
        "    ):\n",
        "        super().__init__(\n",
        "            nn.Conv2d(\n",
        "                in_features,\n",
        "                out_features,\n",
        "                kernel_size=kernel_size,\n",
        "                padding=kernel_size // 2,\n",
        "                **kwargs\n",
        "            ),\n",
        "            norm(out_features),\n",
        "            act(),\n",
        "        )\n",
        "\n",
        "class BottleNeckBlock(nn.Module):\n",
        "    def __init__(\n",
        "        self,\n",
        "        in_features: int,\n",
        "        out_features: int,\n",
        "        expansion: int = 4,\n",
        "        drop_p: float = .0,\n",
        "        layer_scaler_init_value: float = 1e-6,\n",
        "    ):\n",
        "        super().__init__()\n",
        "        expanded_features = out_features * expansion\n",
        "        self.block = nn.Sequential(\n",
        "            # narrow -> wide (with depth-wise and bigger kernel)\n",
        "            nn.Conv2d(\n",
        "                in_features, in_features, kernel_size=7, padding=3, bias=False, groups=in_features\n",
        "            ),\n",
        "            # GroupNorm with num_groups=1 is the same as LayerNorm but works for 2D data\n",
        "            nn.GroupNorm(num_groups=1, num_channels=in_features),\n",
        "            # wide -> wide \n",
        "            nn.Conv2d(in_features, expanded_features, kernel_size=1),\n",
        "            nn.GELU(),\n",
        "            # wide -> narrow\n",
        "            nn.Conv2d(expanded_features, out_features, kernel_size=1),\n",
        "        )\n",
        "        self.layer_scaler = LayerScaler(layer_scaler_init_value, out_features)\n",
        "        self.drop_path = StochasticDepth(drop_p, mode=\"batch\")\n",
        "\n",
        "        \n",
        "    def forward(self, x: Tensor) -> Tensor:\n",
        "        res = x\n",
        "        x = self.block(x)\n",
        "        x = self.layer_scaler(x)\n",
        "        x = self.drop_path(x)\n",
        "        x += res\n",
        "        return x\n",
        "\n",
        "class ConvNexStage(nn.Sequential):\n",
        "    def __init__(\n",
        "        self, in_features: int, out_features: int, depth: int, **kwargs\n",
        "    ):\n",
        "        super().__init__(\n",
        "            # add the downsampler\n",
        "            nn.Sequential(\n",
        "                nn.GroupNorm(num_groups=1, num_channels=in_features),\n",
        "                nn.Conv2d(in_features, out_features, kernel_size=2, stride=2)\n",
        "            ),\n",
        "            *[\n",
        "                BottleNeckBlock(out_features, out_features, **kwargs)\n",
        "                for _ in range(depth)\n",
        "            ],\n",
        "        )\n",
        "\n",
        "class ConvNextStem(nn.Sequential):\n",
        "    def __init__(self, in_features: int, out_features: int):\n",
        "        super().__init__(\n",
        "            nn.Conv2d(in_features, out_features, kernel_size=4, stride=4),\n",
        "            nn.BatchNorm2d(out_features)\n",
        "        )\n",
        "\n",
        "class ConvNextEncoder(nn.Module):\n",
        "    def __init__(\n",
        "        self,\n",
        "        in_channels: int,\n",
        "        stem_features: int,\n",
        "        depths: List[int],\n",
        "        widths: List[int],\n",
        "        drop_p: float = .0,\n",
        "    ):\n",
        "        super().__init__()\n",
        "        self.stem = ConvNextStem(in_channels, stem_features)\n",
        "\n",
        "        in_out_widths = list(zip(widths, widths[1:]))\n",
        "        # create drop paths probabilities (one for each stage)\n",
        "        drop_probs = [x.item() for x in torch.linspace(0, drop_p, sum(depths))] \n",
        "        \n",
        "        self.stages = nn.ModuleList(\n",
        "            [\n",
        "                ConvNexStage(stem_features, widths[0], depths[0], drop_p=drop_probs[0]),\n",
        "                *[\n",
        "                    ConvNexStage(in_features, out_features, depth, drop_p=drop_p)\n",
        "                    for (in_features, out_features), depth, drop_p in zip(\n",
        "                        in_out_widths, depths[1:], drop_probs[1:]\n",
        "                    )\n",
        "                ],\n",
        "            ]\n",
        "        )\n",
        "        \n",
        "\n",
        "    def forward(self, x):\n",
        "        x = self.stem(x)\n",
        "        for stage in self.stages:\n",
        "            x = stage(x)\n",
        "        return x\n",
        "\n",
        "class ClassificationHead(nn.Sequential):\n",
        "    def __init__(self, num_channels: int, num_classes: int = 2):\n",
        "        super().__init__(\n",
        "            nn.AdaptiveAvgPool2d((1, 1)),\n",
        "            nn.Flatten(1),\n",
        "            nn.LayerNorm(num_channels),\n",
        "            nn.Linear(num_channels, num_classes)\n",
        "        )\n",
        "    \n",
        "class ConvNext(nn.Sequential):\n",
        "    def __init__(self,  \n",
        "                 in_channels: int,\n",
        "                 stem_features: int,\n",
        "                 depths: List[int],\n",
        "                 widths: List[int],\n",
        "                 drop_p: float = .0,\n",
        "                 num_classes: int = 2):\n",
        "        super().__init__()\n",
        "        self.encoder = ConvNextEncoder(in_channels, stem_features, depths, widths, drop_p)\n",
        "        self.head = ClassificationHead(widths[-1], num_classes)\n"
      ]
    },
    {
      "cell_type": "code",
      "source": [
        "#Initializing model\n",
        "model = ConvNext(in_channels=3, stem_features=64, depths=[3,4,6,4], widths=[256, 512, 1024, 2048])"
      ],
      "metadata": {
        "id": "r9VmuzyS9r6Y"
      },
      "execution_count": null,
      "outputs": []
    },
    {
      "cell_type": "code",
      "source": [
        "if torch.cuda.is_available():\n",
        "    model.cuda()"
      ],
      "metadata": {
        "id": "NQ3GBuIl9sdg"
      },
      "execution_count": null,
      "outputs": []
    },
    {
      "cell_type": "markdown",
      "metadata": {
        "id": "f1dyk_TGPu73"
      },
      "source": [
        "##5. Testing Model"
      ]
    },
    {
      "cell_type": "code",
      "source": [
        "x = torch.rand(1, 3, 224, 224)\n",
        "model = ConvNext(in_channels=3, stem_features=64, depths=[3,4,6,4], widths=[256, 512, 1024, 2048])\n",
        "model(x).shape"
      ],
      "metadata": {
        "id": "TWmF4W_BnskO"
      },
      "execution_count": null,
      "outputs": []
    },
    {
      "cell_type": "markdown",
      "metadata": {
        "id": "4Ts-Y_GmP1d2"
      },
      "source": [
        "##6. Defining Main Training"
      ]
    },
    {
      "cell_type": "code",
      "execution_count": null,
      "metadata": {
        "id": "OFI29VFCP5EE"
      },
      "outputs": [],
      "source": [
        "# Hyper-parameters\n",
        "num_epochs = 30\n",
        "learning_rate = 0.001\n",
        "patience = 10"
      ]
    },
    {
      "cell_type": "code",
      "execution_count": null,
      "metadata": {
        "colab": {
          "base_uri": "https://localhost:8080/"
        },
        "id": "v0PQts-aP5f5",
        "outputId": "be92b974-a54c-4aca-aa41-f73b82c74fec"
      },
      "outputs": [
        {
          "output_type": "stream",
          "name": "stdout",
          "text": [
            "Epoch [1/30], Step [100/652] Loss: 0.9314\n",
            "Epoch [1/30], Step [200/652] Loss: 0.5341\n",
            "Epoch [1/30], Step [300/652] Loss: 0.3641\n",
            "Epoch [1/30], Step [400/652] Loss: 0.7118\n",
            "Epoch [1/30], Step [500/652] Loss: 0.6268\n",
            "Epoch [1/30], Step [600/652] Loss: 0.6328\n",
            "Saving model with validation loss of 0.7317...\n",
            "Epoch [2/30], Step [100/652] Loss: 0.8648\n",
            "Epoch [2/30], Step [200/652] Loss: 1.0601\n",
            "Epoch [2/30], Step [300/652] Loss: 0.7649\n",
            "Epoch [2/30], Step [400/652] Loss: 0.7003\n",
            "Epoch [2/30], Step [500/652] Loss: 0.7160\n",
            "Epoch [2/30], Step [600/652] Loss: 0.5637\n",
            "Saving model with validation loss of 0.7097...\n",
            "Epoch [3/30], Step [100/652] Loss: 0.6370\n",
            "Epoch [3/30], Step [200/652] Loss: 0.6532\n",
            "Epoch [3/30], Step [300/652] Loss: 0.7382\n",
            "Epoch [3/30], Step [400/652] Loss: 0.4637\n",
            "Epoch [3/30], Step [500/652] Loss: 0.7120\n",
            "Epoch [3/30], Step [600/652] Loss: 0.6293\n",
            "Epoch [4/30], Step [100/652] Loss: 0.5432\n",
            "Epoch [4/30], Step [200/652] Loss: 0.6032\n",
            "Epoch [4/30], Step [300/652] Loss: 0.4208\n",
            "Epoch [4/30], Step [400/652] Loss: 0.5315\n",
            "Epoch [4/30], Step [500/652] Loss: 0.5156\n",
            "Epoch [4/30], Step [600/652] Loss: 0.4072\n",
            "Epoch [5/30], Step [100/652] Loss: 0.5403\n",
            "Epoch [5/30], Step [200/652] Loss: 0.9552\n",
            "Epoch [5/30], Step [300/652] Loss: 0.6000\n",
            "Epoch [5/30], Step [400/652] Loss: 0.5570\n",
            "Epoch [5/30], Step [500/652] Loss: 0.7876\n",
            "Epoch [5/30], Step [600/652] Loss: 0.4771\n",
            "Epoch [6/30], Step [100/652] Loss: 0.4738\n",
            "Epoch [6/30], Step [200/652] Loss: 1.1647\n",
            "Epoch [6/30], Step [300/652] Loss: 0.6545\n",
            "Epoch [6/30], Step [400/652] Loss: 0.6907\n",
            "Epoch [6/30], Step [500/652] Loss: 0.2998\n",
            "Epoch [6/30], Step [600/652] Loss: 0.4967\n",
            "Epoch [7/30], Step [100/652] Loss: 0.5501\n",
            "Epoch [7/30], Step [200/652] Loss: 0.3695\n",
            "Epoch [7/30], Step [300/652] Loss: 0.3956\n",
            "Epoch [7/30], Step [400/652] Loss: 0.4032\n",
            "Epoch [7/30], Step [500/652] Loss: 0.5281\n",
            "Epoch [7/30], Step [600/652] Loss: 0.4649\n",
            "Epoch [8/30], Step [100/652] Loss: 0.6211\n",
            "Epoch [8/30], Step [200/652] Loss: 0.7409\n",
            "Epoch [8/30], Step [300/652] Loss: 0.3412\n",
            "Epoch [8/30], Step [400/652] Loss: 0.9324\n",
            "Epoch [8/30], Step [500/652] Loss: 0.7413\n",
            "Epoch [8/30], Step [600/652] Loss: 0.4052\n",
            "Epoch [9/30], Step [100/652] Loss: 0.2902\n",
            "Epoch [9/30], Step [200/652] Loss: 0.2713\n",
            "Epoch [9/30], Step [300/652] Loss: 0.4527\n",
            "Epoch [9/30], Step [400/652] Loss: 0.4885\n",
            "Epoch [9/30], Step [500/652] Loss: 0.4884\n",
            "Epoch [9/30], Step [600/652] Loss: 0.2216\n",
            "Epoch [10/30], Step [100/652] Loss: 0.4486\n",
            "Epoch [10/30], Step [200/652] Loss: 1.1589\n",
            "Epoch [10/30], Step [300/652] Loss: 0.5303\n",
            "Epoch [10/30], Step [400/652] Loss: 0.7602\n",
            "Epoch [10/30], Step [500/652] Loss: 0.2766\n",
            "Epoch [10/30], Step [600/652] Loss: 0.5059\n",
            "Epoch [11/30], Step [100/652] Loss: 0.5935\n",
            "Epoch [11/30], Step [200/652] Loss: 0.7095\n",
            "Epoch [11/30], Step [300/652] Loss: 1.6066\n",
            "Epoch [11/30], Step [400/652] Loss: 0.5382\n",
            "Epoch [11/30], Step [500/652] Loss: 0.5668\n",
            "Epoch [11/30], Step [600/652] Loss: 0.7853\n",
            "Epoch [12/30], Step [100/652] Loss: 0.8233\n",
            "Epoch [12/30], Step [200/652] Loss: 0.9725\n",
            "Epoch [12/30], Step [300/652] Loss: 0.4395\n",
            "Epoch [12/30], Step [400/652] Loss: 0.2827\n",
            "Epoch [12/30], Step [500/652] Loss: 0.2634\n",
            "Epoch [12/30], Step [600/652] Loss: 1.1032\n",
            "Epoch [13/30], Step [100/652] Loss: 0.6356\n",
            "Epoch [13/30], Step [200/652] Loss: 0.8736\n",
            "Epoch [13/30], Step [300/652] Loss: 0.3745\n",
            "Epoch [13/30], Step [400/652] Loss: 0.4492\n",
            "Epoch [13/30], Step [500/652] Loss: 0.3981\n",
            "Epoch [13/30], Step [600/652] Loss: 1.0922\n",
            "Epoch [14/30], Step [100/652] Loss: 0.4232\n",
            "Epoch [14/30], Step [200/652] Loss: 0.4651\n",
            "Epoch [14/30], Step [300/652] Loss: 0.5936\n",
            "Epoch [14/30], Step [400/652] Loss: 0.7606\n",
            "Epoch [14/30], Step [500/652] Loss: 0.5976\n",
            "Epoch [14/30], Step [600/652] Loss: 0.4131\n",
            "Epoch [15/30], Step [100/652] Loss: 0.4398\n",
            "Epoch [15/30], Step [200/652] Loss: 0.6410\n",
            "Epoch [15/30], Step [300/652] Loss: 0.2874\n",
            "Epoch [15/30], Step [400/652] Loss: 0.2539\n",
            "Epoch [15/30], Step [500/652] Loss: 0.3802\n",
            "Epoch [15/30], Step [600/652] Loss: 0.6081\n",
            "Epoch [16/30], Step [100/652] Loss: 0.4231\n",
            "Epoch [16/30], Step [200/652] Loss: 0.3382\n",
            "Epoch [16/30], Step [300/652] Loss: 0.3281\n",
            "Epoch [16/30], Step [400/652] Loss: 0.1853\n",
            "Epoch [16/30], Step [500/652] Loss: 0.5432\n",
            "Epoch [16/30], Step [600/652] Loss: 0.3166\n",
            "Epoch [17/30], Step [100/652] Loss: 0.4872\n",
            "Epoch [17/30], Step [200/652] Loss: 0.7507\n",
            "Epoch [17/30], Step [300/652] Loss: 0.4252\n",
            "Epoch [17/30], Step [400/652] Loss: 0.9464\n",
            "Epoch [17/30], Step [500/652] Loss: 1.1196\n",
            "Epoch [17/30], Step [600/652] Loss: 0.2008\n",
            "Epoch [18/30], Step [100/652] Loss: 0.7806\n",
            "Epoch [18/30], Step [200/652] Loss: 0.5223\n",
            "Epoch [18/30], Step [300/652] Loss: 0.3320\n",
            "Epoch [18/30], Step [400/652] Loss: 0.2671\n",
            "Epoch [18/30], Step [500/652] Loss: 0.4756\n",
            "Epoch [18/30], Step [600/652] Loss: 0.5601\n",
            "Saving model with validation loss of 0.6871...\n",
            "Epoch [19/30], Step [100/652] Loss: 0.5929\n",
            "Epoch [19/30], Step [200/652] Loss: 0.4160\n",
            "Epoch [19/30], Step [300/652] Loss: 0.4429\n",
            "Epoch [19/30], Step [400/652] Loss: 0.5014\n",
            "Epoch [19/30], Step [500/652] Loss: 0.5777\n",
            "Epoch [19/30], Step [600/652] Loss: 0.4823\n",
            "Epoch [20/30], Step [100/652] Loss: 0.6757\n",
            "Epoch [20/30], Step [200/652] Loss: 0.5297\n",
            "Epoch [20/30], Step [300/652] Loss: 0.1705\n",
            "Epoch [20/30], Step [400/652] Loss: 0.4069\n",
            "Epoch [20/30], Step [500/652] Loss: 0.3123\n",
            "Epoch [20/30], Step [600/652] Loss: 0.6822\n",
            "Epoch [21/30], Step [100/652] Loss: 0.5748\n",
            "Epoch [21/30], Step [200/652] Loss: 0.2582\n",
            "Epoch [21/30], Step [300/652] Loss: 0.4510\n",
            "Epoch [21/30], Step [400/652] Loss: 0.4033\n",
            "Epoch [21/30], Step [500/652] Loss: 0.9412\n",
            "Epoch [21/30], Step [600/652] Loss: 0.2971\n",
            "Epoch [22/30], Step [100/652] Loss: 0.5743\n",
            "Epoch [22/30], Step [200/652] Loss: 0.1750\n",
            "Epoch [22/30], Step [300/652] Loss: 0.4202\n",
            "Epoch [22/30], Step [400/652] Loss: 0.1875\n",
            "Epoch [22/30], Step [500/652] Loss: 0.3797\n",
            "Epoch [22/30], Step [600/652] Loss: 0.3194\n",
            "Epoch [23/30], Step [100/652] Loss: 0.2762\n",
            "Epoch [23/30], Step [200/652] Loss: 0.2639\n",
            "Epoch [23/30], Step [300/652] Loss: 0.6144\n",
            "Epoch [23/30], Step [400/652] Loss: 0.4997\n",
            "Epoch [23/30], Step [500/652] Loss: 0.6477\n",
            "Epoch [23/30], Step [600/652] Loss: 0.6396\n",
            "Epoch [24/30], Step [100/652] Loss: 0.5965\n",
            "Epoch [24/30], Step [200/652] Loss: 0.5698\n",
            "Epoch [24/30], Step [300/652] Loss: 0.1298\n",
            "Epoch [24/30], Step [400/652] Loss: 0.5190\n",
            "Epoch [24/30], Step [500/652] Loss: 0.2835\n",
            "Epoch [24/30], Step [600/652] Loss: 0.4385\n",
            "Epoch [25/30], Step [100/652] Loss: 0.1527\n",
            "Epoch [25/30], Step [200/652] Loss: 0.5058\n",
            "Epoch [25/30], Step [300/652] Loss: 0.6851\n",
            "Epoch [25/30], Step [400/652] Loss: 0.2747\n",
            "Epoch [25/30], Step [500/652] Loss: 0.8932\n",
            "Epoch [25/30], Step [600/652] Loss: 1.3372\n",
            "Epoch [26/30], Step [100/652] Loss: 0.4712\n",
            "Epoch [26/30], Step [200/652] Loss: 0.3541\n",
            "Epoch [26/30], Step [300/652] Loss: 0.1953\n",
            "Epoch [26/30], Step [400/652] Loss: 0.2687\n",
            "Epoch [26/30], Step [500/652] Loss: 0.2322\n",
            "Epoch [26/30], Step [600/652] Loss: 0.1447\n",
            "Epoch [27/30], Step [100/652] Loss: 0.1202\n",
            "Epoch [27/30], Step [200/652] Loss: 0.2729\n",
            "Epoch [27/30], Step [300/652] Loss: 0.3822\n",
            "Epoch [27/30], Step [400/652] Loss: 0.2520\n",
            "Epoch [27/30], Step [500/652] Loss: 0.3149\n",
            "Epoch [27/30], Step [600/652] Loss: 0.4119\n",
            "Epoch [28/30], Step [100/652] Loss: 0.5049\n",
            "Epoch [28/30], Step [200/652] Loss: 0.7659\n",
            "Epoch [28/30], Step [300/652] Loss: 0.2163\n",
            "Epoch [28/30], Step [400/652] Loss: 0.5021\n",
            "Epoch [28/30], Step [500/652] Loss: 0.1178\n",
            "Epoch [28/30], Step [600/652] Loss: 0.4727\n",
            "Epoch [29/30], Step [100/652] Loss: 0.3019\n",
            "Epoch [29/30], Step [200/652] Loss: 0.2067\n",
            "Epoch [29/30], Step [300/652] Loss: 0.4022\n",
            "Epoch [29/30], Step [400/652] Loss: 0.4176\n",
            "Epoch [29/30], Step [500/652] Loss: 0.3052\n",
            "Epoch [29/30], Step [600/652] Loss: 0.3162\n",
            "Epoch [30/30], Step [100/652] Loss: 0.7254\n",
            "Epoch [30/30], Step [200/652] Loss: 0.1559\n",
            "Epoch [30/30], Step [300/652] Loss: 0.2513\n",
            "Epoch [30/30], Step [400/652] Loss: 0.5623\n",
            "Epoch [30/30], Step [500/652] Loss: 0.2042\n",
            "Epoch [30/30], Step [600/652] Loss: 0.5601\n"
          ]
        }
      ],
      "source": [
        "# Loss and optimizer\n",
        "criterion = nn.CrossEntropyLoss(weight=class_weights)\n",
        "optimizer = torch.optim.Adam(model.parameters(), lr=learning_rate)\n",
        "\n",
        "curr_lr = learning_rate\n",
        "total_step = len(train_loader)\n",
        "\n",
        "# Early stopping parameters\n",
        "early_stopping_counter = 0\n",
        "best_loss = float('inf')\n",
        "\n",
        "# For updating learning rate\n",
        "def update_lr(optimizer, lr):    \n",
        "    for param_group in optimizer.param_groups:\n",
        "        param_group['lr'] = lr\n",
        "\n",
        "\n",
        "for epoch in range(num_epochs):\n",
        "    for i, (images, labels) in enumerate(train_loader):\n",
        "        images, labels = images.to(device), labels.to(device)\n",
        "        \n",
        "        # Forward pass\n",
        "        outputs = model(images)\n",
        "        loss = criterion(outputs, labels)\n",
        "        \n",
        "        # Backward and optimize\n",
        "        optimizer.zero_grad()\n",
        "        loss.backward()\n",
        "        optimizer.step()\n",
        "        \n",
        "        if (i+1) % 100 == 0:\n",
        "            print (\"Epoch [{}/{}], Step [{}/{}] Loss: {:.4f}\"\n",
        "                   .format(epoch+1, num_epochs, i+1, total_step, loss.item()))\n",
        "    \n",
        "    # Decay learning rate\n",
        "    if (epoch+1) % 20 == 0:\n",
        "        curr_lr /= 3\n",
        "        update_lr(optimizer, curr_lr)\n",
        "\n",
        "    # Calculate validation loss\n",
        "    with torch.no_grad():\n",
        "        val_loss = 0\n",
        "        for images, labels in val_loader:\n",
        "            images, labels = images.to(device), labels.to(device)\n",
        "            outputs = model(images)\n",
        "            val_loss += criterion(outputs, labels)\n",
        "        val_loss /= len(val_loader)\n",
        "\n",
        "        # Save the model if the validation loss is the best observed yet\n",
        "        if val_loss < best_loss:\n",
        "            print(f'Saving model with validation loss of {val_loss:.4f}...')\n",
        "            torch.save(model.state_dict(), 'best_model.pth')\n",
        "            best_loss = val_loss\n",
        "\n",
        "    # Early stopping if overfitting\n",
        "    if early_stopping_counter >= patience:\n",
        "        print(f'Validation loss has not improved for {patience} epochs. Early stopping...')\n",
        "        break\n",
        "    elif val_loss < best_loss:\n",
        "        best_loss = val_loss\n",
        "        early_stopping_counter = 0\n"
      ]
    },
    {
      "cell_type": "markdown",
      "metadata": {
        "id": "PXmE1g9WQ6_2"
      },
      "source": [
        "##7. Testing"
      ]
    },
    {
      "cell_type": "code",
      "execution_count": null,
      "metadata": {
        "id": "yW_Iy6SqQ8qE",
        "colab": {
          "base_uri": "https://localhost:8080/"
        },
        "outputId": "defa4cd6-eb31-46d5-e645-9386c5a1b906"
      },
      "outputs": [
        {
          "output_type": "stream",
          "name": "stdout",
          "text": [
            "Model accuracy on test images: 72.27564102564102 %\n"
          ]
        }
      ],
      "source": [
        "# Load the saved model checkpoint\n",
        "checkpoint = torch.load('best_model.pth')\n",
        "model.load_state_dict(checkpoint)\n",
        "\n",
        "model.eval()\n",
        "with torch.no_grad():\n",
        "    correct = 0\n",
        "    total = 0\n",
        "    for images, labels in test_loader:\n",
        "        images = images.to(device)\n",
        "        labels = labels.to(device)\n",
        "        outputs = model(images)\n",
        "        _, predicted = torch.max(outputs.data, 1)\n",
        "        total += labels.size(0)\n",
        "        correct += (predicted == labels).sum().item()\n",
        "\n",
        "    print('Model accuracy on test images: {} %'.format(100 * correct / total))"
      ]
    }
  ],
  "metadata": {
    "accelerator": "GPU",
    "colab": {
      "provenance": [],
      "authorship_tag": "ABX9TyOeb9fNEger+QcPu4Pp+cua",
      "include_colab_link": true
    },
    "gpuClass": "standard",
    "kernelspec": {
      "display_name": "Python 3",
      "name": "python3"
    },
    "language_info": {
      "name": "python"
    }
  },
  "nbformat": 4,
  "nbformat_minor": 0
}