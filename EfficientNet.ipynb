{
  "cells": [
    {
      "cell_type": "markdown",
      "metadata": {
        "id": "view-in-github",
        "colab_type": "text"
      },
      "source": [
        "<a href=\"https://colab.research.google.com/github/alimomennasab/ChestXRay-Classification/blob/main/EfficientNet.ipynb\" target=\"_parent\"><img src=\"https://colab.research.google.com/assets/colab-badge.svg\" alt=\"Open In Colab\"/></a>"
      ]
    },
    {
      "cell_type": "markdown",
      "metadata": {
        "id": "pP9Y0fbLzw9I"
      },
      "source": [
        "##1. Setup"
      ]
    },
    {
      "cell_type": "code",
      "execution_count": null,
      "metadata": {
        "id": "nQRvCSqOiaqg"
      },
      "outputs": [],
      "source": [
        "import torch\n",
        "import torch.nn as nn\n",
        "import torch.optim as optim\n",
        "import torchvision.datasets as datasets\n",
        "import torchvision.transforms as transforms\n",
        "import pandas as pd\n",
        "import os\n",
        "import numpy as np\n",
        "from math import ceil\n",
        "from PIL import Image\n",
        "from glob import glob\n",
        "from torch.utils.data import Dataset, DataLoader\n",
        "from torchvision.datasets import ImageFolder\n",
        "from torch.optim.lr_scheduler import ReduceLROnPlateau"
      ]
    },
    {
      "cell_type": "code",
      "execution_count": null,
      "metadata": {
        "colab": {
          "base_uri": "https://localhost:8080/"
        },
        "id": "7j7RpSAQz34l",
        "outputId": "008a66d0-aaf5-4927-cd4b-feb2d603e64c"
      },
      "outputs": [
        {
          "output_type": "stream",
          "name": "stdout",
          "text": [
            "Drive already mounted at /content/drive; to attempt to forcibly remount, call drive.mount(\"/content/drive\", force_remount=True).\n"
          ]
        }
      ],
      "source": [
        "from google.colab import drive\n",
        "drive.mount('/content/drive')"
      ]
    },
    {
      "cell_type": "code",
      "execution_count": null,
      "metadata": {
        "id": "uKRnJ5C-z4Pu"
      },
      "outputs": [],
      "source": [
        "device = torch.device('cuda' if torch.cuda.is_available() else 'cpu')"
      ]
    },
    {
      "cell_type": "markdown",
      "metadata": {
        "id": "CPls5vz6zznp"
      },
      "source": [
        "##2. Loading Data"
      ]
    },
    {
      "cell_type": "code",
      "execution_count": null,
      "metadata": {
        "id": "lW6oUmH5SGPs"
      },
      "outputs": [],
      "source": [
        "data_dir = '/content/drive/My Drive/chest_xray/'"
      ]
    },
    {
      "cell_type": "code",
      "execution_count": null,
      "metadata": {
        "id": "HKpTb3pLK1mF"
      },
      "outputs": [],
      "source": [
        "# Split dataset into training, validation, and test sets\n",
        "train_dir = os.path.join(data_dir, 'train')\n",
        "val_dir = os.path.join(data_dir, 'val')\n",
        "test_dir = os.path.join(data_dir, 'test')"
      ]
    },
    {
      "cell_type": "code",
      "execution_count": null,
      "metadata": {
        "colab": {
          "base_uri": "https://localhost:8080/"
        },
        "id": "zxi0-PleSQQC",
        "outputId": "3fa327b4-c398-4337-8b99-0d5041d51b3f"
      },
      "outputs": [
        {
          "output_type": "stream",
          "name": "stdout",
          "text": [
            "['train', 'chest_xray', 'val', '__MACOSX', 'test']\n",
            "['PNEUMONIA', 'NORMAL']\n"
          ]
        }
      ],
      "source": [
        "print(os.listdir(data_dir))\n",
        "classes = os.listdir(data_dir + \"/train\")\n",
        "print(classes)"
      ]
    },
    {
      "cell_type": "code",
      "execution_count": null,
      "metadata": {
        "colab": {
          "base_uri": "https://localhost:8080/"
        },
        "id": "Spwu3fZfSWfH",
        "outputId": "0934b59e-69c5-4ea2-c440-22fc283c9154"
      },
      "outputs": [
        {
          "output_type": "stream",
          "name": "stdout",
          "text": [
            "No. of training examples for Pneumonia: 3875\n",
            "['person556_virus_1096.jpeg', 'person536_bacteria_2257.jpeg', 'person581_bacteria_2390.jpeg', 'person592_bacteria_2434.jpeg', 'person581_virus_1125.jpeg']\n"
          ]
        }
      ],
      "source": [
        "# Pneumonia images\n",
        "pneumonia_files = os.listdir(data_dir + \"/train/PNEUMONIA\")\n",
        "print('No. of training examples for Pneumonia:', len(pneumonia_files))\n",
        "print(pneumonia_files[:5])"
      ]
    },
    {
      "cell_type": "code",
      "execution_count": null,
      "metadata": {
        "colab": {
          "base_uri": "https://localhost:8080/"
        },
        "id": "k41O-OQZSdOy",
        "outputId": "1e387a8c-161d-4c91-b77e-69ce2c43a072"
      },
      "outputs": [
        {
          "output_type": "stream",
          "name": "stdout",
          "text": [
            "No. of training examples for Normal: 1341\n",
            "['IM-0526-0001.jpeg', 'IM-0524-0001.jpeg', 'IM-0507-0001.jpeg', 'IM-0508-0001.jpeg', 'IM-0520-0001.jpeg']\n"
          ]
        }
      ],
      "source": [
        "# Normal (healthy) images\n",
        "normal_files = os.listdir(data_dir + \"/train/NORMAL\")\n",
        "print('No. of training examples for Normal:', len(normal_files))\n",
        "print(normal_files[:5])"
      ]
    },
    {
      "cell_type": "code",
      "execution_count": null,
      "metadata": {
        "id": "W7f1dkPIyIAM"
      },
      "outputs": [],
      "source": [
        "# There are almost three times more pneumonia images than normal images, so we will use class weighing\n",
        "\n",
        "# Define classes\n",
        "classes = ['NORMAL', 'PNEUMONIA']\n",
        "\n",
        "# Define class weights\n",
        "num_pneumonia_train = len(os.listdir(os.path.join(train_dir, classes[1])))\n",
        "num_normal_train = len(os.listdir(os.path.join(train_dir, classes[0])))\n",
        "total_train = num_pneumonia_train + num_normal_train\n",
        "class_weights = torch.tensor([total_train/num_normal_train, total_train/num_pneumonia_train]).to(device)"
      ]
    },
    {
      "cell_type": "markdown",
      "metadata": {
        "id": "mW2QV9xoC2oO"
      },
      "source": [
        "##3. Preparing Dataset and DataLoader"
      ]
    },
    {
      "cell_type": "code",
      "execution_count": null,
      "metadata": {
        "id": "gCrAW01bDOzn"
      },
      "outputs": [],
      "source": [
        "# Define transforms\n",
        "train_transform = transforms.Compose([\n",
        "    transforms.RandomResizedCrop(224),\n",
        "    transforms.RandomHorizontalFlip(),\n",
        "    transforms.RandomAffine(degrees=10, translate=(0.05,0.05)),\n",
        "    transforms.ColorJitter(brightness=0.4, contrast=0.4, saturation=0.4, hue=0.1),\n",
        "    transforms.ToTensor(),\n",
        "    transforms.Normalize((0.5), (0.5))\n",
        "])\n",
        "\n",
        "val_and_test_transform = transforms.Compose([\n",
        "    transforms.Resize(256),\n",
        "    transforms.CenterCrop(224),\n",
        "    transforms.ToTensor(),\n",
        "    transforms.Normalize((0.5), (0.5))\n",
        "])"
      ]
    },
    {
      "cell_type": "code",
      "execution_count": null,
      "metadata": {
        "id": "GiSPsuL1VNGE"
      },
      "outputs": [],
      "source": [
        "# Define data directories. We won't use a custom class because the dataset is already well-formatted.\n",
        "\n",
        "train_dataset = ImageFolder('/content/drive/My Drive/chest_xray/train', transform = train_transform)\n",
        "val_dataset = ImageFolder('/content/drive/My Drive/chest_xray/val', transform = val_and_test_transform)\n",
        "test_dataset = ImageFolder('/content/drive/My Drive/chest_xray/test', transform = val_and_test_transform)\n",
        "\n",
        "train_loader = DataLoader(train_dataset, batch_size = 8, shuffle = True)\n",
        "val_loader = DataLoader(val_dataset, batch_size = 8, shuffle = False)\n",
        "test_loader = DataLoader(test_dataset, batch_size = 8, shuffle = False)"
      ]
    },
    {
      "cell_type": "markdown",
      "metadata": {
        "id": "QQuODp6wPduz"
      },
      "source": [
        "##4. Defining and Choosing Model"
      ]
    },
    {
      "cell_type": "code",
      "execution_count": null,
      "metadata": {
        "id": "IRL4xlErPfaH"
      },
      "outputs": [],
      "source": [
        "base_model = [\n",
        "    # expand_ratio, channels, repeats, stride, kernel_size\n",
        "    [1, 16, 1, 1, 3],\n",
        "    [6, 24, 2, 2, 3],\n",
        "    [6, 40, 2, 2, 5],\n",
        "    [6, 80, 3, 2, 3],\n",
        "    [6, 112, 3, 1, 5],\n",
        "    [6, 192, 4, 2, 5],\n",
        "    [6, 320, 1, 1, 3],\n",
        "]\n",
        "\n",
        "phi_values = {\n",
        "    # tuple of: (phi_value, resolution, drop_rate)\n",
        "    \"b0\": (0, 224, 0.2),  # alpha, beta, gamma, depth = alpha ** phi\n",
        "    \"b1\": (0.5, 240, 0.2),\n",
        "    \"b2\": (1, 260, 0.3),\n",
        "    \"b3\": (2, 300, 0.3),\n",
        "    \"b4\": (3, 380, 0.4),\n",
        "    \"b5\": (4, 456, 0.4),\n",
        "    \"b6\": (5, 528, 0.5),\n",
        "    \"b7\": (6, 600, 0.5),\n",
        "}"
      ]
    },
    {
      "cell_type": "code",
      "source": [
        "class CNNBlock(nn.Module):\n",
        "    def __init__(\n",
        "        self, in_channels, out_channels, kernel_size, stride, padding, groups=1\n",
        "    ):\n",
        "        super(CNNBlock, self).__init__()\n",
        "        self.cnn = nn.Conv2d(\n",
        "            in_channels,\n",
        "            out_channels,\n",
        "            kernel_size,\n",
        "            stride,\n",
        "            padding,\n",
        "            groups=groups,\n",
        "            bias=False,\n",
        "        )\n",
        "        self.bn = nn.BatchNorm2d(out_channels)\n",
        "        self.silu = nn.SiLU()  # SiLU <-> Swish\n",
        "\n",
        "    def forward(self, x):\n",
        "        return self.silu(self.bn(self.cnn(x)))\n",
        "\n",
        "\n",
        "class SqueezeExcitation(nn.Module):\n",
        "    def __init__(self, in_channels, reduced_dim):\n",
        "        super(SqueezeExcitation, self).__init__()\n",
        "        self.se = nn.Sequential(\n",
        "            nn.AdaptiveAvgPool2d(1),  # C x H x W -> C x 1 x 1\n",
        "            nn.Conv2d(in_channels, reduced_dim, 1),\n",
        "            nn.SiLU(),\n",
        "            nn.Conv2d(reduced_dim, in_channels, 1),\n",
        "            nn.Sigmoid(),\n",
        "        )\n",
        "\n",
        "    def forward(self, x):\n",
        "        return x * self.se(x)\n",
        "\n",
        "\n",
        "class InvertedResidualBlock(nn.Module):\n",
        "    def __init__(\n",
        "        self,\n",
        "        in_channels,\n",
        "        out_channels,\n",
        "        kernel_size,\n",
        "        stride,\n",
        "        padding,\n",
        "        expand_ratio,\n",
        "        reduction=4,  # squeeze excitation\n",
        "        survival_prob=0.8,  # for stochastic depth\n",
        "    ):\n",
        "        super(InvertedResidualBlock, self).__init__()\n",
        "        self.survival_prob = 0.8\n",
        "        self.use_residual = in_channels == out_channels and stride == 1\n",
        "        hidden_dim = in_channels * expand_ratio\n",
        "        self.expand = in_channels != hidden_dim\n",
        "        reduced_dim = int(in_channels / reduction)\n",
        "\n",
        "        if self.expand:\n",
        "            self.expand_conv = CNNBlock(\n",
        "                in_channels,\n",
        "                hidden_dim,\n",
        "                kernel_size=3,\n",
        "                stride=1,\n",
        "                padding=1,\n",
        "            )\n",
        "\n",
        "        self.conv = nn.Sequential(\n",
        "            CNNBlock(\n",
        "                hidden_dim,\n",
        "                hidden_dim,\n",
        "                kernel_size,\n",
        "                stride,\n",
        "                padding,\n",
        "                groups=hidden_dim,\n",
        "            ),\n",
        "            SqueezeExcitation(hidden_dim, reduced_dim),\n",
        "            nn.Conv2d(hidden_dim, out_channels, 1, bias=False),\n",
        "            nn.BatchNorm2d(out_channels),\n",
        "        )\n",
        "\n",
        "    def stochastic_depth(self, x):\n",
        "        if not self.training:\n",
        "            return x\n",
        "\n",
        "        binary_tensor = (\n",
        "            torch.rand(x.shape[0], 1, 1, 1, device=x.device) < self.survival_prob\n",
        "        )\n",
        "        return torch.div(x, self.survival_prob) * binary_tensor\n",
        "\n",
        "    def forward(self, inputs):\n",
        "        x = self.expand_conv(inputs) if self.expand else inputs\n",
        "\n",
        "        if self.use_residual:\n",
        "            return self.stochastic_depth(self.conv(x)) + inputs\n",
        "        else:\n",
        "            return self.conv(x)\n",
        "\n",
        "\n",
        "class EfficientNet(nn.Module):\n",
        "    def __init__(self, version, num_classes):\n",
        "        super(EfficientNet, self).__init__()\n",
        "        width_factor, depth_factor, dropout_rate = self.calculate_factors(version)\n",
        "        last_channels = ceil(1280 * width_factor)\n",
        "        self.pool = nn.AdaptiveAvgPool2d(1)\n",
        "        self.features = self.create_features(width_factor, depth_factor, last_channels)\n",
        "        self.classifier = nn.Sequential(\n",
        "            nn.Dropout(dropout_rate),\n",
        "            nn.Linear(last_channels, num_classes),\n",
        "        )\n",
        "\n",
        "    def calculate_factors(self, version, alpha=1.2, beta=1.1):\n",
        "        phi, res, drop_rate = phi_values[version]\n",
        "        depth_factor = alpha**phi\n",
        "        width_factor = beta**phi\n",
        "        return width_factor, depth_factor, drop_rate\n",
        "\n",
        "    def create_features(self, width_factor, depth_factor, last_channels):\n",
        "        channels = int(32 * width_factor)\n",
        "        features = [CNNBlock(3, channels, 3, stride=2, padding=1)]\n",
        "        in_channels = channels\n",
        "\n",
        "        for expand_ratio, channels, repeats, stride, kernel_size in base_model:\n",
        "            out_channels = 4 * ceil(int(channels * width_factor) / 4)\n",
        "            layers_repeats = ceil(repeats * depth_factor)\n",
        "\n",
        "            for layer in range(layers_repeats):\n",
        "                features.append(\n",
        "                    InvertedResidualBlock(\n",
        "                        in_channels,\n",
        "                        out_channels,\n",
        "                        expand_ratio=expand_ratio,\n",
        "                        stride=stride if layer == 0 else 1,\n",
        "                        kernel_size=kernel_size,\n",
        "                        padding=kernel_size // 2,  # if k=1:pad=0, k=3:pad=1, k=5:pad=2\n",
        "                    )\n",
        "                )\n",
        "                in_channels = out_channels\n",
        "\n",
        "        features.append(\n",
        "            CNNBlock(in_channels, last_channels, kernel_size=1, stride=1, padding=0)\n",
        "        )\n",
        "\n",
        "        return nn.Sequential(*features)\n",
        "\n",
        "    def forward(self, x):\n",
        "        x = self.pool(self.features(x))\n",
        "        return self.classifier(x.view(x.shape[0], -1))"
      ],
      "metadata": {
        "id": "VWJmeCjfkmU4"
      },
      "execution_count": null,
      "outputs": []
    },
    {
      "cell_type": "code",
      "source": [
        "version = \"b7\"\n",
        "num_classes = 2\n",
        "phi, res, drop_rate = phi_values[version]"
      ],
      "metadata": {
        "id": "0Qisvj9amHeC"
      },
      "execution_count": null,
      "outputs": []
    },
    {
      "cell_type": "code",
      "source": [
        "model = EfficientNet(version=version, num_classes=num_classes,).to(device)"
      ],
      "metadata": {
        "id": "r9VmuzyS9r6Y"
      },
      "execution_count": null,
      "outputs": []
    },
    {
      "cell_type": "code",
      "source": [
        "if torch.cuda.is_available():\n",
        "    model.cuda()"
      ],
      "metadata": {
        "id": "NQ3GBuIl9sdg"
      },
      "execution_count": null,
      "outputs": []
    },
    {
      "cell_type": "markdown",
      "metadata": {
        "id": "f1dyk_TGPu73"
      },
      "source": [
        "##5. Testing Model"
      ]
    },
    {
      "cell_type": "code",
      "execution_count": null,
      "metadata": {
        "id": "QcsXcSO3PuA7",
        "colab": {
          "base_uri": "https://localhost:8080/"
        },
        "outputId": "ef011c70-bcd2-4f49-87ab-99ebc4b52f09"
      },
      "outputs": [
        {
          "output_type": "stream",
          "name": "stdout",
          "text": [
            "torch.Size([1, 2])\n"
          ]
        }
      ],
      "source": [
        "x = torch.randn((1, 3, res, res)).to(device)\n",
        "print(model(x).shape)  # (num_examples, num_classes)"
      ]
    },
    {
      "cell_type": "markdown",
      "metadata": {
        "id": "4Ts-Y_GmP1d2"
      },
      "source": [
        "##6. Defining Main Training"
      ]
    },
    {
      "cell_type": "code",
      "execution_count": null,
      "metadata": {
        "id": "OFI29VFCP5EE"
      },
      "outputs": [],
      "source": [
        "# Hyper-parameters\n",
        "num_epochs = 30\n",
        "learning_rate = 0.001\n",
        "patience = 10"
      ]
    },
    {
      "cell_type": "code",
      "execution_count": null,
      "metadata": {
        "colab": {
          "base_uri": "https://localhost:8080/"
        },
        "id": "v0PQts-aP5f5",
        "outputId": "67e7566b-977c-4eb0-9f65-97f77b34f0c9"
      },
      "outputs": [
        {
          "output_type": "stream",
          "name": "stdout",
          "text": [
            "Epoch [1/30], Step [100/652] Loss: 0.6537\n",
            "Epoch [1/30], Step [200/652] Loss: 0.7282\n",
            "Epoch [1/30], Step [300/652] Loss: 0.7017\n",
            "Epoch [1/30], Step [400/652] Loss: 0.7092\n",
            "Epoch [1/30], Step [500/652] Loss: 0.7307\n",
            "Epoch [1/30], Step [600/652] Loss: 0.5194\n",
            "Saving model with validation loss of 0.6799...\n",
            "Epoch [2/30], Step [100/652] Loss: 0.7365\n",
            "Epoch [2/30], Step [200/652] Loss: 0.7693\n",
            "Epoch [2/30], Step [300/652] Loss: 0.7164\n",
            "Epoch [2/30], Step [400/652] Loss: 0.6902\n",
            "Epoch [2/30], Step [500/652] Loss: 0.6683\n",
            "Epoch [2/30], Step [600/652] Loss: 0.7315\n",
            "Epoch [3/30], Step [100/652] Loss: 0.7498\n",
            "Epoch [3/30], Step [200/652] Loss: 0.6451\n",
            "Epoch [3/30], Step [300/652] Loss: 0.7109\n",
            "Epoch [3/30], Step [400/652] Loss: 0.6097\n",
            "Epoch [3/30], Step [500/652] Loss: 0.7002\n",
            "Epoch [3/30], Step [600/652] Loss: 0.8481\n",
            "Epoch [4/30], Step [100/652] Loss: 0.6545\n",
            "Epoch [4/30], Step [200/652] Loss: 0.7284\n",
            "Epoch [4/30], Step [300/652] Loss: 0.7561\n",
            "Epoch [4/30], Step [400/652] Loss: 0.7008\n",
            "Epoch [4/30], Step [500/652] Loss: 0.7832\n",
            "Epoch [4/30], Step [600/652] Loss: 0.6747\n",
            "Saving model with validation loss of 0.6754...\n",
            "Epoch [5/30], Step [100/652] Loss: 0.6749\n",
            "Epoch [5/30], Step [200/652] Loss: 0.5879\n",
            "Epoch [5/30], Step [300/652] Loss: 0.7578\n",
            "Epoch [5/30], Step [400/652] Loss: 0.6546\n",
            "Epoch [5/30], Step [500/652] Loss: 0.5736\n",
            "Epoch [5/30], Step [600/652] Loss: 0.6591\n",
            "Epoch [6/30], Step [100/652] Loss: 0.6097\n",
            "Epoch [6/30], Step [200/652] Loss: 0.7406\n",
            "Epoch [6/30], Step [300/652] Loss: 0.6222\n",
            "Epoch [6/30], Step [400/652] Loss: 0.7275\n",
            "Epoch [6/30], Step [500/652] Loss: 0.6986\n",
            "Epoch [6/30], Step [600/652] Loss: 0.7445\n",
            "Epoch [7/30], Step [100/652] Loss: 0.6435\n",
            "Epoch [7/30], Step [200/652] Loss: 0.7233\n",
            "Epoch [7/30], Step [300/652] Loss: 0.8368\n",
            "Epoch [7/30], Step [400/652] Loss: 0.8997\n",
            "Epoch [7/30], Step [500/652] Loss: 0.5904\n",
            "Epoch [7/30], Step [600/652] Loss: 0.8653\n",
            "Epoch [8/30], Step [100/652] Loss: 0.7363\n",
            "Epoch [8/30], Step [200/652] Loss: 0.7488\n",
            "Epoch [8/30], Step [300/652] Loss: 0.6329\n",
            "Epoch [8/30], Step [400/652] Loss: 0.6351\n",
            "Epoch [8/30], Step [500/652] Loss: 0.7062\n",
            "Epoch [8/30], Step [600/652] Loss: 0.6510\n",
            "Epoch [9/30], Step [100/652] Loss: 0.7939\n",
            "Epoch [9/30], Step [200/652] Loss: 0.7263\n",
            "Epoch [9/30], Step [300/652] Loss: 0.6515\n",
            "Epoch [9/30], Step [400/652] Loss: 0.6660\n",
            "Epoch [9/30], Step [500/652] Loss: 0.7526\n",
            "Epoch [9/30], Step [600/652] Loss: 0.7033\n",
            "Epoch [10/30], Step [100/652] Loss: 0.6544\n",
            "Epoch [10/30], Step [200/652] Loss: 0.6368\n",
            "Epoch [10/30], Step [300/652] Loss: 0.6918\n",
            "Epoch [10/30], Step [400/652] Loss: 0.6569\n",
            "Epoch [10/30], Step [500/652] Loss: 0.6331\n",
            "Epoch [10/30], Step [600/652] Loss: 0.7562\n",
            "Epoch [11/30], Step [100/652] Loss: 0.6447\n",
            "Epoch [11/30], Step [200/652] Loss: 0.7797\n",
            "Epoch [11/30], Step [300/652] Loss: 0.5985\n",
            "Epoch [11/30], Step [400/652] Loss: 0.6836\n",
            "Epoch [11/30], Step [500/652] Loss: 0.7522\n",
            "Epoch [11/30], Step [600/652] Loss: 0.7287\n",
            "Epoch [12/30], Step [100/652] Loss: 0.6010\n",
            "Epoch [12/30], Step [200/652] Loss: 0.5627\n",
            "Epoch [12/30], Step [300/652] Loss: 0.5676\n",
            "Epoch [12/30], Step [400/652] Loss: 0.7492\n",
            "Epoch [12/30], Step [500/652] Loss: 0.6209\n",
            "Epoch [12/30], Step [600/652] Loss: 0.6021\n",
            "Epoch [13/30], Step [100/652] Loss: 0.6202\n",
            "Epoch [13/30], Step [200/652] Loss: 0.6763\n",
            "Epoch [13/30], Step [300/652] Loss: 0.6350\n",
            "Epoch [13/30], Step [400/652] Loss: 0.7071\n",
            "Epoch [13/30], Step [500/652] Loss: 0.7358\n",
            "Epoch [13/30], Step [600/652] Loss: 0.6583\n",
            "Epoch [14/30], Step [100/652] Loss: 0.7359\n",
            "Epoch [14/30], Step [200/652] Loss: 0.7021\n",
            "Epoch [14/30], Step [300/652] Loss: 0.5819\n",
            "Epoch [14/30], Step [400/652] Loss: 0.7800\n",
            "Epoch [14/30], Step [500/652] Loss: 0.5918\n",
            "Epoch [14/30], Step [600/652] Loss: 0.6753\n",
            "Epoch [15/30], Step [100/652] Loss: 0.6985\n",
            "Epoch [15/30], Step [200/652] Loss: 0.5791\n",
            "Epoch [15/30], Step [300/652] Loss: 0.7609\n",
            "Epoch [15/30], Step [400/652] Loss: 0.6483\n",
            "Epoch [15/30], Step [500/652] Loss: 0.7302\n",
            "Epoch [15/30], Step [600/652] Loss: 0.6553\n",
            "Epoch [16/30], Step [100/652] Loss: 0.6313\n",
            "Epoch [16/30], Step [200/652] Loss: 0.7432\n",
            "Epoch [16/30], Step [300/652] Loss: 0.7106\n",
            "Epoch [16/30], Step [400/652] Loss: 0.7205\n",
            "Epoch [16/30], Step [500/652] Loss: 0.7981\n",
            "Epoch [16/30], Step [600/652] Loss: 0.6475\n",
            "Epoch [17/30], Step [100/652] Loss: 0.6481\n",
            "Epoch [17/30], Step [200/652] Loss: 0.7827\n",
            "Epoch [17/30], Step [300/652] Loss: 0.6512\n",
            "Epoch [17/30], Step [400/652] Loss: 0.6395\n",
            "Epoch [17/30], Step [500/652] Loss: 0.6805\n",
            "Epoch [17/30], Step [600/652] Loss: 0.6733\n",
            "Epoch [18/30], Step [100/652] Loss: 0.7614\n",
            "Epoch [18/30], Step [200/652] Loss: 0.8034\n",
            "Epoch [18/30], Step [300/652] Loss: 0.6595\n",
            "Epoch [18/30], Step [400/652] Loss: 0.6539\n",
            "Epoch [18/30], Step [500/652] Loss: 0.6890\n",
            "Epoch [18/30], Step [600/652] Loss: 0.6621\n",
            "Epoch [19/30], Step [100/652] Loss: 0.6533\n",
            "Epoch [19/30], Step [200/652] Loss: 0.6199\n",
            "Epoch [19/30], Step [300/652] Loss: 0.6916\n",
            "Epoch [19/30], Step [400/652] Loss: 0.7367\n",
            "Epoch [19/30], Step [500/652] Loss: 0.7618\n",
            "Epoch [19/30], Step [600/652] Loss: 0.7834\n",
            "Epoch [20/30], Step [100/652] Loss: 0.7576\n",
            "Epoch [20/30], Step [200/652] Loss: 0.6814\n",
            "Epoch [20/30], Step [300/652] Loss: 0.7644\n",
            "Epoch [20/30], Step [400/652] Loss: 0.8059\n",
            "Epoch [20/30], Step [500/652] Loss: 0.7328\n",
            "Epoch [20/30], Step [600/652] Loss: 0.6151\n",
            "Saving model with validation loss of 0.6517...\n",
            "Epoch [21/30], Step [100/652] Loss: 0.7012\n",
            "Epoch [21/30], Step [200/652] Loss: 0.6411\n",
            "Epoch [21/30], Step [300/652] Loss: 0.7767\n",
            "Epoch [21/30], Step [400/652] Loss: 0.7175\n",
            "Epoch [21/30], Step [500/652] Loss: 0.6995\n",
            "Epoch [21/30], Step [600/652] Loss: 0.6747\n",
            "Saving model with validation loss of 0.6428...\n",
            "Epoch [22/30], Step [100/652] Loss: 0.6832\n",
            "Epoch [22/30], Step [200/652] Loss: 0.7131\n",
            "Epoch [22/30], Step [300/652] Loss: 0.6679\n",
            "Epoch [22/30], Step [400/652] Loss: 0.7267\n",
            "Epoch [22/30], Step [500/652] Loss: 0.7052\n",
            "Epoch [22/30], Step [600/652] Loss: 0.6569\n",
            "Epoch [23/30], Step [100/652] Loss: 0.6752\n",
            "Epoch [23/30], Step [200/652] Loss: 0.6621\n",
            "Epoch [23/30], Step [300/652] Loss: 0.7193\n",
            "Epoch [23/30], Step [400/652] Loss: 0.6772\n",
            "Epoch [23/30], Step [500/652] Loss: 0.7393\n",
            "Epoch [23/30], Step [600/652] Loss: 0.6574\n",
            "Epoch [24/30], Step [100/652] Loss: 0.6536\n",
            "Epoch [24/30], Step [200/652] Loss: 0.6523\n",
            "Epoch [24/30], Step [300/652] Loss: 0.6721\n",
            "Epoch [24/30], Step [400/652] Loss: 0.6451\n",
            "Epoch [24/30], Step [500/652] Loss: 0.7343\n",
            "Epoch [24/30], Step [600/652] Loss: 0.6289\n",
            "Epoch [25/30], Step [100/652] Loss: 0.6637\n",
            "Epoch [25/30], Step [200/652] Loss: 0.6399\n",
            "Epoch [25/30], Step [300/652] Loss: 0.6877\n",
            "Epoch [25/30], Step [400/652] Loss: 0.7523\n",
            "Epoch [25/30], Step [500/652] Loss: 0.7619\n",
            "Epoch [25/30], Step [600/652] Loss: 0.6501\n",
            "Epoch [26/30], Step [100/652] Loss: 0.7081\n",
            "Epoch [26/30], Step [200/652] Loss: 0.8023\n",
            "Epoch [26/30], Step [300/652] Loss: 0.6637\n",
            "Epoch [26/30], Step [400/652] Loss: 0.6823\n",
            "Epoch [26/30], Step [500/652] Loss: 0.7958\n",
            "Epoch [26/30], Step [600/652] Loss: 0.6868\n",
            "Epoch [27/30], Step [100/652] Loss: 0.7555\n",
            "Epoch [27/30], Step [200/652] Loss: 0.7147\n",
            "Epoch [27/30], Step [300/652] Loss: 0.7826\n",
            "Epoch [27/30], Step [400/652] Loss: 0.6738\n",
            "Epoch [27/30], Step [500/652] Loss: 0.6932\n",
            "Epoch [27/30], Step [600/652] Loss: 0.6654\n",
            "Epoch [28/30], Step [100/652] Loss: 0.7419\n",
            "Epoch [28/30], Step [200/652] Loss: 0.6075\n",
            "Epoch [28/30], Step [300/652] Loss: 0.6947\n",
            "Epoch [28/30], Step [400/652] Loss: 0.7365\n",
            "Epoch [28/30], Step [500/652] Loss: 1.0327\n",
            "Epoch [28/30], Step [600/652] Loss: 0.7322\n",
            "Epoch [29/30], Step [100/652] Loss: 0.6725\n",
            "Epoch [29/30], Step [200/652] Loss: 0.5977\n",
            "Epoch [29/30], Step [300/652] Loss: 0.7416\n",
            "Epoch [29/30], Step [400/652] Loss: 0.6087\n",
            "Epoch [29/30], Step [500/652] Loss: 0.7422\n",
            "Epoch [29/30], Step [600/652] Loss: 0.6947\n",
            "Epoch [30/30], Step [100/652] Loss: 0.7926\n",
            "Epoch [30/30], Step [200/652] Loss: 0.8157\n",
            "Epoch [30/30], Step [300/652] Loss: 0.7039\n",
            "Epoch [30/30], Step [400/652] Loss: 0.6870\n",
            "Epoch [30/30], Step [500/652] Loss: 0.7079\n",
            "Epoch [30/30], Step [600/652] Loss: 0.6914\n"
          ]
        }
      ],
      "source": [
        "# Loss and optimizer\n",
        "criterion = nn.CrossEntropyLoss(weight=class_weights)\n",
        "optimizer = torch.optim.Adam(model.parameters(), lr=learning_rate)\n",
        "\n",
        "curr_lr = learning_rate\n",
        "total_step = len(train_loader)\n",
        "\n",
        "# Early stopping parameters\n",
        "early_stopping_counter = 0\n",
        "best_loss = float('inf')\n",
        "\n",
        "# For updating learning rate\n",
        "def update_lr(optimizer, lr):    \n",
        "    for param_group in optimizer.param_groups:\n",
        "        param_group['lr'] = lr\n",
        "\n",
        "\n",
        "for epoch in range(num_epochs):\n",
        "    for i, (images, labels) in enumerate(train_loader):\n",
        "        images, labels = images.to(device), labels.to(device)\n",
        "        \n",
        "        # Forward pass\n",
        "        outputs = model(images)\n",
        "        loss = criterion(outputs, labels)\n",
        "        \n",
        "        # Backward and optimize\n",
        "        optimizer.zero_grad()\n",
        "        loss.backward()\n",
        "        optimizer.step()\n",
        "        \n",
        "        if (i+1) % 100 == 0:\n",
        "            print (\"Epoch [{}/{}], Step [{}/{}] Loss: {:.4f}\"\n",
        "                   .format(epoch+1, num_epochs, i+1, total_step, loss.item()))\n",
        "    \n",
        "    # Decay learning rate\n",
        "    if (epoch+1) % 20 == 0:\n",
        "        curr_lr /= 3\n",
        "        update_lr(optimizer, curr_lr)\n",
        "\n",
        "    # Calculate validation loss\n",
        "    with torch.no_grad():\n",
        "        val_loss = 0\n",
        "        for images, labels in val_loader:\n",
        "            images, labels = images.to(device), labels.to(device)\n",
        "            outputs = model(images)\n",
        "            val_loss += criterion(outputs, labels)\n",
        "        val_loss /= len(val_loader)\n",
        "\n",
        "        # Save the model if the validation loss is the best observed yet\n",
        "        if val_loss < best_loss:\n",
        "            print(f'Saving model with validation loss of {val_loss:.4f}...')\n",
        "            torch.save(model.state_dict(), 'best_model.pth')\n",
        "            best_loss = val_loss\n",
        "\n",
        "    # Early stopping if overfitting\n",
        "    if early_stopping_counter >= patience:\n",
        "        print(f'Validation loss has not improved for {patience} epochs. Early stopping...')\n",
        "        break\n",
        "    elif val_loss < best_loss:\n",
        "        best_loss = val_loss\n",
        "        early_stopping_counter = 0\n"
      ]
    },
    {
      "cell_type": "markdown",
      "metadata": {
        "id": "PXmE1g9WQ6_2"
      },
      "source": [
        "##7. Testing"
      ]
    },
    {
      "cell_type": "code",
      "execution_count": null,
      "metadata": {
        "id": "yW_Iy6SqQ8qE",
        "colab": {
          "base_uri": "https://localhost:8080/"
        },
        "outputId": "764b9368-1e34-41ed-8667-eb1dd4801389"
      },
      "outputs": [
        {
          "output_type": "stream",
          "name": "stdout",
          "text": [
            "Model accuracy on test images: 62.5 %\n"
          ]
        }
      ],
      "source": [
        "# Load the saved model checkpoint\n",
        "checkpoint = torch.load('best_model.pth')\n",
        "model.load_state_dict(checkpoint)\n",
        "\n",
        "model.eval()\n",
        "with torch.no_grad():\n",
        "    correct = 0\n",
        "    total = 0\n",
        "    for images, labels in test_loader:\n",
        "        images = images.to(device)\n",
        "        labels = labels.to(device)\n",
        "        outputs = model(images)\n",
        "        _, predicted = torch.max(outputs.data, 1)\n",
        "        total += labels.size(0)\n",
        "        correct += (predicted == labels).sum().item()\n",
        "\n",
        "    print('Model accuracy on test images: {} %'.format(100 * correct / total))"
      ]
    }
  ],
  "metadata": {
    "accelerator": "GPU",
    "colab": {
      "provenance": [],
      "authorship_tag": "ABX9TyOGDQvy1aIZubFYit9bED5L",
      "include_colab_link": true
    },
    "gpuClass": "standard",
    "kernelspec": {
      "display_name": "Python 3",
      "name": "python3"
    },
    "language_info": {
      "name": "python"
    }
  },
  "nbformat": 4,
  "nbformat_minor": 0
}