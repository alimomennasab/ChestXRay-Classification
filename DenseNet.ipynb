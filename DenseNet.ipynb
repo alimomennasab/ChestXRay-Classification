{
  "cells": [
    {
      "cell_type": "markdown",
      "metadata": {
        "id": "view-in-github",
        "colab_type": "text"
      },
      "source": [
        "<a href=\"https://colab.research.google.com/github/alimomennasab/ChestXRay-Classification/blob/main/DenseNet.ipynb\" target=\"_parent\"><img src=\"https://colab.research.google.com/assets/colab-badge.svg\" alt=\"Open In Colab\"/></a>"
      ]
    },
    {
      "cell_type": "markdown",
      "metadata": {
        "id": "pP9Y0fbLzw9I"
      },
      "source": [
        "##1. Setup"
      ]
    },
    {
      "cell_type": "code",
      "execution_count": 16,
      "metadata": {
        "id": "nQRvCSqOiaqg"
      },
      "outputs": [],
      "source": [
        "import torch\n",
        "import torch.nn as nn\n",
        "import torch.optim as optim\n",
        "import torchvision.datasets as datasets\n",
        "import torchvision.transforms as transforms\n",
        "import pandas as pd\n",
        "import os\n",
        "import numpy as np\n",
        "from PIL import Image\n",
        "from glob import glob\n",
        "from torch.utils.data import Dataset, DataLoader\n",
        "from torchvision.datasets import ImageFolder\n",
        "from torch.optim.lr_scheduler import ReduceLROnPlateau"
      ]
    },
    {
      "cell_type": "code",
      "execution_count": 17,
      "metadata": {
        "colab": {
          "base_uri": "https://localhost:8080/"
        },
        "id": "7j7RpSAQz34l",
        "outputId": "bc2b70de-8502-44d3-af89-36b208af2945"
      },
      "outputs": [
        {
          "output_type": "stream",
          "name": "stdout",
          "text": [
            "Drive already mounted at /content/drive; to attempt to forcibly remount, call drive.mount(\"/content/drive\", force_remount=True).\n"
          ]
        }
      ],
      "source": [
        "from google.colab import drive\n",
        "drive.mount('/content/drive')"
      ]
    },
    {
      "cell_type": "code",
      "execution_count": 18,
      "metadata": {
        "id": "uKRnJ5C-z4Pu"
      },
      "outputs": [],
      "source": [
        "device = torch.device('cuda' if torch.cuda.is_available() else 'cpu')"
      ]
    },
    {
      "cell_type": "markdown",
      "metadata": {
        "id": "CPls5vz6zznp"
      },
      "source": [
        "##2. Loading Data"
      ]
    },
    {
      "cell_type": "code",
      "execution_count": 19,
      "metadata": {
        "id": "lW6oUmH5SGPs"
      },
      "outputs": [],
      "source": [
        "data_dir = '/content/drive/My Drive/chest_xray/'"
      ]
    },
    {
      "cell_type": "code",
      "execution_count": 20,
      "metadata": {
        "id": "HKpTb3pLK1mF"
      },
      "outputs": [],
      "source": [
        "# Split dataset into training, validation, and test sets\n",
        "train_dir = os.path.join(data_dir, 'train')\n",
        "val_dir = os.path.join(data_dir, 'val')\n",
        "test_dir = os.path.join(data_dir, 'test')"
      ]
    },
    {
      "cell_type": "code",
      "execution_count": 21,
      "metadata": {
        "colab": {
          "base_uri": "https://localhost:8080/"
        },
        "id": "zxi0-PleSQQC",
        "outputId": "0d3fdfd4-ee81-4a64-a58b-a210703ce807"
      },
      "outputs": [
        {
          "output_type": "stream",
          "name": "stdout",
          "text": [
            "['train', 'chest_xray', 'val', '__MACOSX', 'test']\n",
            "['PNEUMONIA', 'NORMAL']\n"
          ]
        }
      ],
      "source": [
        "print(os.listdir(data_dir))\n",
        "classes = os.listdir(data_dir + \"/train\")\n",
        "print(classes)"
      ]
    },
    {
      "cell_type": "code",
      "execution_count": 22,
      "metadata": {
        "colab": {
          "base_uri": "https://localhost:8080/"
        },
        "id": "Spwu3fZfSWfH",
        "outputId": "9cd03374-7d95-495f-b255-4d8f4421b233"
      },
      "outputs": [
        {
          "output_type": "stream",
          "name": "stdout",
          "text": [
            "No. of training examples for Pneumonia: 3875\n",
            "['person556_virus_1096.jpeg', 'person536_bacteria_2257.jpeg', 'person581_bacteria_2390.jpeg', 'person592_bacteria_2434.jpeg', 'person581_virus_1125.jpeg']\n"
          ]
        }
      ],
      "source": [
        "# Pneumonia images\n",
        "pneumonia_files = os.listdir(data_dir + \"/train/PNEUMONIA\")\n",
        "print('No. of training examples for Pneumonia:', len(pneumonia_files))\n",
        "print(pneumonia_files[:5])"
      ]
    },
    {
      "cell_type": "code",
      "execution_count": 23,
      "metadata": {
        "colab": {
          "base_uri": "https://localhost:8080/"
        },
        "id": "k41O-OQZSdOy",
        "outputId": "e2d6032a-3973-4b4a-a555-c29751acce4b"
      },
      "outputs": [
        {
          "output_type": "stream",
          "name": "stdout",
          "text": [
            "No. of training examples for Normal: 1341\n",
            "['IM-0526-0001.jpeg', 'IM-0524-0001.jpeg', 'IM-0507-0001.jpeg', 'IM-0508-0001.jpeg', 'IM-0520-0001.jpeg']\n"
          ]
        }
      ],
      "source": [
        "# Normal (healthy) images\n",
        "normal_files = os.listdir(data_dir + \"/train/NORMAL\")\n",
        "print('No. of training examples for Normal:', len(normal_files))\n",
        "print(normal_files[:5])"
      ]
    },
    {
      "cell_type": "code",
      "execution_count": 24,
      "metadata": {
        "id": "W7f1dkPIyIAM"
      },
      "outputs": [],
      "source": [
        "# There are almost three times more pneumonia images than normal images, so we will use class weighing\n",
        "\n",
        "# Define classes\n",
        "classes = ['NORMAL', 'PNEUMONIA']\n",
        "\n",
        "# Define class weights\n",
        "num_pneumonia_train = len(os.listdir(os.path.join(train_dir, classes[1])))\n",
        "num_normal_train = len(os.listdir(os.path.join(train_dir, classes[0])))\n",
        "total_train = num_pneumonia_train + num_normal_train\n",
        "class_weights = torch.tensor([total_train/num_normal_train, total_train/num_pneumonia_train]).to(device)"
      ]
    },
    {
      "cell_type": "markdown",
      "metadata": {
        "id": "mW2QV9xoC2oO"
      },
      "source": [
        "##3. Preparing Dataset and DataLoader"
      ]
    },
    {
      "cell_type": "code",
      "execution_count": 25,
      "metadata": {
        "id": "gCrAW01bDOzn"
      },
      "outputs": [],
      "source": [
        "# Define transforms\n",
        "train_transform = transforms.Compose([\n",
        "    transforms.RandomResizedCrop(224),\n",
        "    transforms.RandomHorizontalFlip(),\n",
        "    transforms.RandomAffine(degrees=10, translate=(0.05,0.05)),\n",
        "    transforms.ColorJitter(brightness=0.4, contrast=0.4, saturation=0.4, hue=0.1),\n",
        "    transforms.ToTensor(),\n",
        "    transforms.Normalize((0.5), (0.5))\n",
        "])\n",
        "\n",
        "val_and_test_transform = transforms.Compose([\n",
        "    transforms.Resize(256),\n",
        "    transforms.CenterCrop(224),\n",
        "    transforms.ToTensor(),\n",
        "    transforms.Normalize((0.5), (0.5))\n",
        "])"
      ]
    },
    {
      "cell_type": "code",
      "execution_count": 26,
      "metadata": {
        "id": "GiSPsuL1VNGE"
      },
      "outputs": [],
      "source": [
        "# Define data directories. We won't use a custom class because the dataset is already well-formatted.\n",
        "\n",
        "train_dataset = ImageFolder('/content/drive/My Drive/chest_xray/train', transform = train_transform)\n",
        "val_dataset = ImageFolder('/content/drive/My Drive/chest_xray/val', transform = val_and_test_transform)\n",
        "test_dataset = ImageFolder('/content/drive/My Drive/chest_xray/test', transform = val_and_test_transform)\n",
        "\n",
        "train_loader = DataLoader(train_dataset, batch_size = 16, shuffle = True)\n",
        "val_loader = DataLoader(val_dataset, batch_size = 16, shuffle = False)\n",
        "test_loader = DataLoader(test_dataset, batch_size = 16, shuffle = False)"
      ]
    },
    {
      "cell_type": "markdown",
      "metadata": {
        "id": "QQuODp6wPduz"
      },
      "source": [
        "##4. Defining and Choosing Model"
      ]
    },
    {
      "cell_type": "code",
      "execution_count": 27,
      "metadata": {
        "id": "IRL4xlErPfaH"
      },
      "outputs": [],
      "source": [
        "class DenseBlock(nn.Module):\n",
        "    def __init__(self, in_channels, growth_rate, num_layers):\n",
        "        super(DenseBlock, self).__init__()\n",
        "        self.layers = nn.ModuleList()\n",
        "        for i in range(num_layers):\n",
        "            self.layers.append(\n",
        "                nn.Sequential(\n",
        "                    nn.BatchNorm2d(in_channels + i*growth_rate),\n",
        "                    nn.ReLU(inplace=True),\n",
        "                    nn.Conv2d(in_channels + i*growth_rate, growth_rate, kernel_size=3, stride=1, padding=1, bias=True)\n",
        "                )\n",
        "            )\n",
        "\n",
        "    def forward(self, x):\n",
        "        for layer in self.layers:\n",
        "            out = layer(x)\n",
        "            x = torch.cat([x, out], dim=1)\n",
        "        return x\n",
        "\n",
        "\n",
        "class TransitionBlock(nn.Module):\n",
        "    def __init__(self, in_channels, out_channels):\n",
        "        super(TransitionBlock, self).__init__()\n",
        "        self.layers = nn.Sequential(\n",
        "            nn.BatchNorm2d(in_channels),\n",
        "            nn.ReLU(inplace=True),\n",
        "            nn.Conv2d(in_channels, out_channels, kernel_size=1, stride=1, padding=0, bias=True),\n",
        "            nn.AvgPool2d(kernel_size=2, stride=2)\n",
        "        )\n",
        "\n",
        "    def forward(self, x):\n",
        "        return self.layers(x)\n",
        "\n",
        "\n",
        "class DenseNet(nn.Module):\n",
        "    def __init__(self, in_channels=3, num_classes=2, growth_rate=32, block_config=(6, 12, 24, 16)):\n",
        "        super(DenseNet, self).__init__()\n",
        "\n",
        "        self.features = nn.Sequential(\n",
        "            nn.Conv2d(in_channels, 2*growth_rate, kernel_size=7, stride=2, padding=3, bias=True),\n",
        "            nn.BatchNorm2d(2*growth_rate),\n",
        "            nn.ReLU(inplace=True),\n",
        "            nn.MaxPool2d(kernel_size=3, stride=2, padding=1)\n",
        "        )\n",
        "\n",
        "        num_features = 2*growth_rate\n",
        "        self.dense_blocks = nn.ModuleList()\n",
        "        self.transition_blocks = nn.ModuleList()\n",
        "\n",
        "        for i, num_layers in enumerate(block_config):\n",
        "            self.dense_blocks.append(DenseBlock(num_features, growth_rate, num_layers))\n",
        "            num_features += num_layers * growth_rate\n",
        "\n",
        "            if i != len(block_config) - 1:\n",
        "                out_channels = num_features // 2\n",
        "                self.transition_blocks.append(TransitionBlock(num_features, out_channels))\n",
        "                num_features = out_channels\n",
        "\n",
        "        self.avg_pool = nn.AdaptiveAvgPool2d((1, 1))\n",
        "        self.fc = nn.Linear(num_features, num_classes)\n",
        "\n",
        "    def forward(self, x):\n",
        "        x = self.features(x)\n",
        "\n",
        "        for i, block in enumerate(self.dense_blocks):\n",
        "            x = block(x)\n",
        "            if i != len(self.dense_blocks) - 1:\n",
        "                x = self.transition_blocks[i](x)\n",
        "\n",
        "        x = self.avg_pool(x)\n",
        "        x = x.view(x.size(0), -1)\n",
        "        x = self.fc(x)\n",
        "\n",
        "        return x\n"
      ]
    },
    {
      "cell_type": "code",
      "execution_count": 28,
      "metadata": {
        "id": "r9VmuzyS9r6Y"
      },
      "outputs": [],
      "source": [
        "# Initializing model\n",
        "model = DenseNet()"
      ]
    },
    {
      "cell_type": "code",
      "execution_count": 29,
      "metadata": {
        "id": "NQ3GBuIl9sdg"
      },
      "outputs": [],
      "source": [
        "if torch.cuda.is_available():\n",
        "    model.cuda()"
      ]
    },
    {
      "cell_type": "markdown",
      "metadata": {
        "id": "f1dyk_TGPu73"
      },
      "source": [
        "##5. Testing Model"
      ]
    },
    {
      "cell_type": "code",
      "execution_count": 30,
      "metadata": {
        "colab": {
          "base_uri": "https://localhost:8080/"
        },
        "id": "QcsXcSO3PuA7",
        "outputId": "0f5e3097-21c7-4733-ce8b-0937b8b693fb"
      },
      "outputs": [
        {
          "output_type": "stream",
          "name": "stdout",
          "text": [
            "torch.Size([2, 2])\n"
          ]
        }
      ],
      "source": [
        "x = torch.randn(2, 3, 224, 224).to(device)\n",
        "print(model(x).shape) "
      ]
    },
    {
      "cell_type": "markdown",
      "metadata": {
        "id": "4Ts-Y_GmP1d2"
      },
      "source": [
        "##6. Defining Main Training"
      ]
    },
    {
      "cell_type": "code",
      "execution_count": 31,
      "metadata": {
        "id": "OFI29VFCP5EE"
      },
      "outputs": [],
      "source": [
        "# Hyper-parameters\n",
        "num_epochs = 30\n",
        "learning_rate = 0.001\n",
        "patience = 10"
      ]
    },
    {
      "cell_type": "code",
      "execution_count": 32,
      "metadata": {
        "colab": {
          "base_uri": "https://localhost:8080/"
        },
        "id": "v0PQts-aP5f5",
        "outputId": "20918160-9752-4859-ca53-e6309e833601"
      },
      "outputs": [
        {
          "output_type": "stream",
          "name": "stdout",
          "text": [
            "Epoch [1/30], Step [100/326] Loss: 0.5958\n",
            "Epoch [1/30], Step [200/326] Loss: 0.5650\n",
            "Epoch [1/30], Step [300/326] Loss: 0.3751\n",
            "Saving model with validation loss of 0.5921...\n",
            "Epoch [2/30], Step [100/326] Loss: 0.4353\n",
            "Epoch [2/30], Step [200/326] Loss: 0.7278\n",
            "Epoch [2/30], Step [300/326] Loss: 0.6477\n",
            "Epoch [3/30], Step [100/326] Loss: 0.3848\n",
            "Epoch [3/30], Step [200/326] Loss: 0.7005\n",
            "Epoch [3/30], Step [300/326] Loss: 0.3854\n",
            "Epoch [4/30], Step [100/326] Loss: 0.4455\n",
            "Epoch [4/30], Step [200/326] Loss: 0.4852\n",
            "Epoch [4/30], Step [300/326] Loss: 0.6449\n",
            "Epoch [5/30], Step [100/326] Loss: 0.4308\n",
            "Epoch [5/30], Step [200/326] Loss: 0.4755\n",
            "Epoch [5/30], Step [300/326] Loss: 0.6101\n",
            "Epoch [6/30], Step [100/326] Loss: 0.6314\n",
            "Epoch [6/30], Step [200/326] Loss: 0.3303\n",
            "Epoch [6/30], Step [300/326] Loss: 0.4165\n",
            "Epoch [7/30], Step [100/326] Loss: 0.7264\n",
            "Epoch [7/30], Step [200/326] Loss: 0.4038\n",
            "Epoch [7/30], Step [300/326] Loss: 0.4659\n",
            "Epoch [8/30], Step [100/326] Loss: 0.4623\n",
            "Epoch [8/30], Step [200/326] Loss: 0.6046\n",
            "Epoch [8/30], Step [300/326] Loss: 0.4838\n",
            "Epoch [9/30], Step [100/326] Loss: 0.2932\n",
            "Epoch [9/30], Step [200/326] Loss: 0.1905\n",
            "Epoch [9/30], Step [300/326] Loss: 0.4045\n",
            "Epoch [10/30], Step [100/326] Loss: 0.4955\n",
            "Epoch [10/30], Step [200/326] Loss: 0.7481\n",
            "Epoch [10/30], Step [300/326] Loss: 0.5903\n",
            "Epoch [11/30], Step [100/326] Loss: 0.6053\n",
            "Epoch [11/30], Step [200/326] Loss: 0.7758\n",
            "Epoch [11/30], Step [300/326] Loss: 0.3634\n",
            "Epoch [12/30], Step [100/326] Loss: 0.3915\n",
            "Epoch [12/30], Step [200/326] Loss: 0.4840\n",
            "Epoch [12/30], Step [300/326] Loss: 0.6541\n",
            "Epoch [13/30], Step [100/326] Loss: 0.4836\n",
            "Epoch [13/30], Step [200/326] Loss: 0.5628\n",
            "Epoch [13/30], Step [300/326] Loss: 0.4896\n",
            "Epoch [14/30], Step [100/326] Loss: 0.5702\n",
            "Epoch [14/30], Step [200/326] Loss: 0.5364\n",
            "Epoch [14/30], Step [300/326] Loss: 0.3888\n",
            "Saving model with validation loss of 0.5700...\n",
            "Epoch [15/30], Step [100/326] Loss: 0.6842\n",
            "Epoch [15/30], Step [200/326] Loss: 0.2980\n",
            "Epoch [15/30], Step [300/326] Loss: 0.6004\n",
            "Epoch [16/30], Step [100/326] Loss: 0.5602\n",
            "Epoch [16/30], Step [200/326] Loss: 0.3801\n",
            "Epoch [16/30], Step [300/326] Loss: 0.5006\n",
            "Epoch [17/30], Step [100/326] Loss: 0.4667\n",
            "Epoch [17/30], Step [200/326] Loss: 0.2199\n",
            "Epoch [17/30], Step [300/326] Loss: 0.6238\n",
            "Epoch [18/30], Step [100/326] Loss: 0.7135\n",
            "Epoch [18/30], Step [200/326] Loss: 0.5038\n",
            "Epoch [18/30], Step [300/326] Loss: 0.4027\n",
            "Epoch [19/30], Step [100/326] Loss: 0.3178\n",
            "Epoch [19/30], Step [200/326] Loss: 0.6964\n",
            "Epoch [19/30], Step [300/326] Loss: 0.4086\n",
            "Epoch [20/30], Step [100/326] Loss: 0.4322\n",
            "Epoch [20/30], Step [200/326] Loss: 0.2523\n",
            "Epoch [20/30], Step [300/326] Loss: 0.4483\n",
            "Epoch [21/30], Step [100/326] Loss: 0.3643\n",
            "Epoch [21/30], Step [200/326] Loss: 0.4847\n",
            "Epoch [21/30], Step [300/326] Loss: 0.4299\n",
            "Epoch [22/30], Step [100/326] Loss: 0.2863\n",
            "Epoch [22/30], Step [200/326] Loss: 0.3912\n",
            "Epoch [22/30], Step [300/326] Loss: 0.4995\n",
            "Epoch [23/30], Step [100/326] Loss: 0.1679\n",
            "Epoch [23/30], Step [200/326] Loss: 0.3786\n",
            "Epoch [23/30], Step [300/326] Loss: 0.5337\n",
            "Epoch [24/30], Step [100/326] Loss: 0.4693\n",
            "Epoch [24/30], Step [200/326] Loss: 0.1627\n",
            "Epoch [24/30], Step [300/326] Loss: 0.2620\n",
            "Epoch [25/30], Step [100/326] Loss: 0.5869\n",
            "Epoch [25/30], Step [200/326] Loss: 0.4349\n",
            "Epoch [25/30], Step [300/326] Loss: 0.5170\n",
            "Epoch [26/30], Step [100/326] Loss: 0.5674\n",
            "Epoch [26/30], Step [200/326] Loss: 0.3758\n",
            "Epoch [26/30], Step [300/326] Loss: 0.5005\n",
            "Epoch [27/30], Step [100/326] Loss: 0.4237\n",
            "Epoch [27/30], Step [200/326] Loss: 0.2380\n",
            "Epoch [27/30], Step [300/326] Loss: 0.3034\n",
            "Epoch [28/30], Step [100/326] Loss: 0.5424\n",
            "Epoch [28/30], Step [200/326] Loss: 0.5643\n",
            "Epoch [28/30], Step [300/326] Loss: 0.4538\n",
            "Epoch [29/30], Step [100/326] Loss: 0.3501\n",
            "Epoch [29/30], Step [200/326] Loss: 0.3065\n",
            "Epoch [29/30], Step [300/326] Loss: 0.2162\n",
            "Epoch [30/30], Step [100/326] Loss: 0.3815\n",
            "Epoch [30/30], Step [200/326] Loss: 0.3318\n",
            "Epoch [30/30], Step [300/326] Loss: 0.2839\n"
          ]
        }
      ],
      "source": [
        "# Loss and optimizer\n",
        "criterion = nn.CrossEntropyLoss(weight=class_weights)\n",
        "optimizer = torch.optim.Adam(model.parameters(), lr=learning_rate)\n",
        "\n",
        "curr_lr = learning_rate\n",
        "total_step = len(train_loader)\n",
        "\n",
        "# Early stopping parameters\n",
        "early_stopping_counter = 0\n",
        "best_loss = float('inf')\n",
        "\n",
        "# For updating learning rate\n",
        "def update_lr(optimizer, lr):    \n",
        "    for param_group in optimizer.param_groups:\n",
        "        param_group['lr'] = lr\n",
        "\n",
        "\n",
        "for epoch in range(num_epochs):\n",
        "    for i, (images, labels) in enumerate(train_loader):\n",
        "        images, labels = images.to(device), labels.to(device)\n",
        "        \n",
        "        # Forward pass\n",
        "        outputs = model(images)\n",
        "        loss = criterion(outputs, labels)\n",
        "        \n",
        "        # Backward and optimize\n",
        "        optimizer.zero_grad()\n",
        "        loss.backward()\n",
        "        optimizer.step()\n",
        "        \n",
        "        if (i+1) % 100 == 0:\n",
        "            print (\"Epoch [{}/{}], Step [{}/{}] Loss: {:.4f}\"\n",
        "                   .format(epoch+1, num_epochs, i+1, total_step, loss.item()))\n",
        "    \n",
        "    # Decay learning rate\n",
        "    if (epoch+1) % 20 == 0:\n",
        "        curr_lr /= 3\n",
        "        update_lr(optimizer, curr_lr)\n",
        "\n",
        "    # Calculate validation loss\n",
        "    with torch.no_grad():\n",
        "        val_loss = 0\n",
        "        for images, labels in val_loader:\n",
        "            images, labels = images.to(device), labels.to(device)\n",
        "            outputs = model(images)\n",
        "            val_loss += criterion(outputs, labels)\n",
        "        val_loss /= len(val_loader)\n",
        "\n",
        "        # Save the model if the validation loss is the best observed yet\n",
        "        if val_loss < best_loss:\n",
        "            print(f'Saving model with validation loss of {val_loss:.4f}...')\n",
        "            torch.save(model.state_dict(), 'best_model.pth')\n",
        "            best_loss = val_loss\n",
        "\n",
        "    # Early stopping if overfitting\n",
        "    if early_stopping_counter >= patience:\n",
        "        print(f'Validation loss has not improved for {patience} epochs. Early stopping...')\n",
        "        break\n",
        "    elif val_loss < best_loss:\n",
        "        best_loss = val_loss\n",
        "        early_stopping_counter = 0\n"
      ]
    },
    {
      "cell_type": "markdown",
      "metadata": {
        "id": "PXmE1g9WQ6_2"
      },
      "source": [
        "##7. Testing"
      ]
    },
    {
      "cell_type": "code",
      "execution_count": 33,
      "metadata": {
        "id": "yW_Iy6SqQ8qE",
        "colab": {
          "base_uri": "https://localhost:8080/"
        },
        "outputId": "8082e7ae-73de-4e9b-97ad-67ba971847e1"
      },
      "outputs": [
        {
          "output_type": "stream",
          "name": "stdout",
          "text": [
            "Model accuracy on test images: 74.67948717948718 %\n"
          ]
        }
      ],
      "source": [
        "# Load the saved model checkpoint\n",
        "checkpoint = torch.load('best_model.pth')\n",
        "model.load_state_dict(checkpoint)\n",
        "\n",
        "model.eval()\n",
        "with torch.no_grad():\n",
        "    correct = 0\n",
        "    total = 0\n",
        "    for images, labels in test_loader:\n",
        "        images = images.to(device)\n",
        "        labels = labels.to(device)\n",
        "        outputs = model(images)\n",
        "        _, predicted = torch.max(outputs.data, 1)\n",
        "        total += labels.size(0)\n",
        "        correct += (predicted == labels).sum().item()\n",
        "\n",
        "    print('Model accuracy on test images: {} %'.format(100 * correct / total))"
      ]
    }
  ],
  "metadata": {
    "accelerator": "GPU",
    "colab": {
      "provenance": [],
      "authorship_tag": "ABX9TyM+ttEsNbJ/d/7Uw1F3vlrT",
      "include_colab_link": true
    },
    "gpuClass": "standard",
    "kernelspec": {
      "display_name": "Python 3",
      "name": "python3"
    },
    "language_info": {
      "name": "python"
    }
  },
  "nbformat": 4,
  "nbformat_minor": 0
}