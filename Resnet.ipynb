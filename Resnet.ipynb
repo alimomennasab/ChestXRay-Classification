{
  "cells": [
    {
      "cell_type": "markdown",
      "metadata": {
        "id": "view-in-github",
        "colab_type": "text"
      },
      "source": [
        "<a href=\"https://colab.research.google.com/github/alimomennasab/ChestXRay-Classification/blob/main/Resnet.ipynb\" target=\"_parent\"><img src=\"https://colab.research.google.com/assets/colab-badge.svg\" alt=\"Open In Colab\"/></a>"
      ]
    },
    {
      "cell_type": "markdown",
      "metadata": {
        "id": "pP9Y0fbLzw9I"
      },
      "source": [
        "##1. Setup"
      ]
    },
    {
      "cell_type": "code",
      "execution_count": null,
      "metadata": {
        "id": "nQRvCSqOiaqg"
      },
      "outputs": [],
      "source": [
        "import torch\n",
        "import torch.nn as nn\n",
        "import torch.optim as optim\n",
        "import torchvision.datasets as datasets\n",
        "import torchvision.transforms as transforms\n",
        "import pandas as pd\n",
        "import os\n",
        "import numpy as np\n",
        "from PIL import Image\n",
        "from glob import glob\n",
        "from torch.utils.data import Dataset, DataLoader\n",
        "from torchvision.datasets import ImageFolder\n",
        "from torch.optim.lr_scheduler import ReduceLROnPlateau"
      ]
    },
    {
      "cell_type": "code",
      "execution_count": null,
      "metadata": {
        "colab": {
          "base_uri": "https://localhost:8080/"
        },
        "id": "7j7RpSAQz34l",
        "outputId": "d579b6a4-587f-421a-a64b-82dfab056c17"
      },
      "outputs": [
        {
          "output_type": "stream",
          "name": "stdout",
          "text": [
            "Drive already mounted at /content/drive; to attempt to forcibly remount, call drive.mount(\"/content/drive\", force_remount=True).\n"
          ]
        }
      ],
      "source": [
        "from google.colab import drive\n",
        "drive.mount('/content/drive')"
      ]
    },
    {
      "cell_type": "code",
      "execution_count": null,
      "metadata": {
        "id": "uKRnJ5C-z4Pu"
      },
      "outputs": [],
      "source": [
        "device = torch.device('cuda' if torch.cuda.is_available() else 'cpu')"
      ]
    },
    {
      "cell_type": "markdown",
      "metadata": {
        "id": "CPls5vz6zznp"
      },
      "source": [
        "##2. Loading Data"
      ]
    },
    {
      "cell_type": "code",
      "execution_count": null,
      "metadata": {
        "id": "lW6oUmH5SGPs"
      },
      "outputs": [],
      "source": [
        "data_dir = '/content/drive/My Drive/chest_xray/'"
      ]
    },
    {
      "cell_type": "code",
      "execution_count": null,
      "metadata": {
        "id": "HKpTb3pLK1mF"
      },
      "outputs": [],
      "source": [
        "# Split dataset into training, validation, and test sets\n",
        "train_dir = os.path.join(data_dir, 'train')\n",
        "val_dir = os.path.join(data_dir, 'val')\n",
        "test_dir = os.path.join(data_dir, 'test')"
      ]
    },
    {
      "cell_type": "code",
      "execution_count": null,
      "metadata": {
        "colab": {
          "base_uri": "https://localhost:8080/"
        },
        "id": "zxi0-PleSQQC",
        "outputId": "d9753015-5c48-4623-ab79-5e45c2b83d79"
      },
      "outputs": [
        {
          "output_type": "stream",
          "name": "stdout",
          "text": [
            "['train', 'chest_xray', 'val', '__MACOSX', 'test']\n",
            "['PNEUMONIA', 'NORMAL']\n"
          ]
        }
      ],
      "source": [
        "print(os.listdir(data_dir))\n",
        "classes = os.listdir(data_dir + \"/train\")\n",
        "print(classes)"
      ]
    },
    {
      "cell_type": "code",
      "execution_count": null,
      "metadata": {
        "colab": {
          "base_uri": "https://localhost:8080/"
        },
        "id": "Spwu3fZfSWfH",
        "outputId": "04008a10-0ec4-4196-bd7a-6fa0c79b6708"
      },
      "outputs": [
        {
          "output_type": "stream",
          "name": "stdout",
          "text": [
            "No. of training examples for Pneumonia: 3875\n",
            "['person556_virus_1096.jpeg', 'person536_bacteria_2257.jpeg', 'person581_bacteria_2390.jpeg', 'person592_bacteria_2434.jpeg', 'person581_virus_1125.jpeg']\n"
          ]
        }
      ],
      "source": [
        "# Pneumonia images\n",
        "pneumonia_files = os.listdir(data_dir + \"/train/PNEUMONIA\")\n",
        "print('No. of training examples for Pneumonia:', len(pneumonia_files))\n",
        "print(pneumonia_files[:5])"
      ]
    },
    {
      "cell_type": "code",
      "execution_count": null,
      "metadata": {
        "colab": {
          "base_uri": "https://localhost:8080/"
        },
        "id": "k41O-OQZSdOy",
        "outputId": "596d309b-ab15-4fca-be65-e6b4d3729658"
      },
      "outputs": [
        {
          "output_type": "stream",
          "name": "stdout",
          "text": [
            "No. of training examples for Normal: 1341\n",
            "['IM-0526-0001.jpeg', 'IM-0524-0001.jpeg', 'IM-0507-0001.jpeg', 'IM-0508-0001.jpeg', 'IM-0520-0001.jpeg']\n"
          ]
        }
      ],
      "source": [
        "# Normal (healthy) images\n",
        "normal_files = os.listdir(data_dir + \"/train/NORMAL\")\n",
        "print('No. of training examples for Normal:', len(normal_files))\n",
        "print(normal_files[:5])"
      ]
    },
    {
      "cell_type": "code",
      "execution_count": null,
      "metadata": {
        "id": "W7f1dkPIyIAM"
      },
      "outputs": [],
      "source": [
        "# There are almost three times more pneumonia images than normal images, so we will use class weighing\n",
        "\n",
        "# Define classes\n",
        "classes = ['NORMAL', 'PNEUMONIA']\n",
        "\n",
        "# Define class weights\n",
        "num_pneumonia_train = len(os.listdir(os.path.join(train_dir, classes[1])))\n",
        "num_normal_train = len(os.listdir(os.path.join(train_dir, classes[0])))\n",
        "total_train = num_pneumonia_train + num_normal_train\n",
        "class_weights = torch.tensor([total_train/num_normal_train, total_train/num_pneumonia_train]).to(device)"
      ]
    },
    {
      "cell_type": "markdown",
      "metadata": {
        "id": "mW2QV9xoC2oO"
      },
      "source": [
        "##3. Preparing Dataset and DataLoader"
      ]
    },
    {
      "cell_type": "code",
      "execution_count": null,
      "metadata": {
        "id": "gCrAW01bDOzn"
      },
      "outputs": [],
      "source": [
        "# Define transforms\n",
        "train_transform = transforms.Compose([\n",
        "    transforms.RandomResizedCrop(224),\n",
        "    transforms.RandomHorizontalFlip(),\n",
        "    transforms.RandomAffine(degrees=10, translate=(0.05,0.05)),\n",
        "    transforms.ColorJitter(brightness=0.4, contrast=0.4, saturation=0.4, hue=0.1),\n",
        "    transforms.ToTensor(),\n",
        "    transforms.Normalize((0.5), (0.5))\n",
        "])\n",
        "\n",
        "val_and_test_transform = transforms.Compose([\n",
        "    transforms.Resize(256),\n",
        "    transforms.CenterCrop(224),\n",
        "    transforms.ToTensor(),\n",
        "    transforms.Normalize((0.5), (0.5))\n",
        "])"
      ]
    },
    {
      "cell_type": "code",
      "execution_count": null,
      "metadata": {
        "id": "GiSPsuL1VNGE"
      },
      "outputs": [],
      "source": [
        "# Define data directories. We won't use a custom class because the dataset is already well-formatted.\n",
        "\n",
        "train_dataset = ImageFolder('/content/drive/My Drive/chest_xray/train', transform = train_transform)\n",
        "val_dataset = ImageFolder('/content/drive/My Drive/chest_xray/val', transform = val_and_test_transform)\n",
        "test_dataset = ImageFolder('/content/drive/My Drive/chest_xray/test', transform = val_and_test_transform)\n",
        "\n",
        "train_loader = DataLoader(train_dataset, batch_size = 8, shuffle = True)\n",
        "val_loader = DataLoader(val_dataset, batch_size = 8, shuffle = False)\n",
        "test_loader = DataLoader(test_dataset, batch_size = 8, shuffle = False)"
      ]
    },
    {
      "cell_type": "markdown",
      "metadata": {
        "id": "QQuODp6wPduz"
      },
      "source": [
        "##4. Defining and Choosing Model"
      ]
    },
    {
      "cell_type": "code",
      "execution_count": null,
      "metadata": {
        "id": "IRL4xlErPfaH"
      },
      "outputs": [],
      "source": [
        "class block(nn.Module):\n",
        "    def __init__(self, in_channels, out_channels, identity_downsample=None, stride = 1):\n",
        "        super(block, self).__init__()\n",
        "        self.expansion = 4\n",
        "        self.conv1 = nn.Conv2d(in_channels, out_channels, kernel_size=1, stride=1, padding=0)\n",
        "        self.bn1 = nn.BatchNorm2d(out_channels)\n",
        "        self.conv2 = nn.Conv2d(out_channels, out_channels, kernel_size=3, stride=stride, padding=1)\n",
        "        self.bn2 = nn.BatchNorm2d(out_channels)\n",
        "        self.conv3 = nn.Conv2d(out_channels, out_channels * self.expansion, kernel_size=1, stride=1, padding=0)\n",
        "        self.bn3 = nn.BatchNorm2d(out_channels*self.expansion)\n",
        "        self.relu = nn.ReLU()\n",
        "        self.identity_downsample = identity_downsample\n",
        "\n",
        "    def forward(self, x):\n",
        "        identity = x\n",
        "\n",
        "        x = self.conv1(x)\n",
        "        x = self.bn1(x)\n",
        "        x = self.relu(x)\n",
        "        x = self.conv2(x)\n",
        "        x = self.bn2(x)\n",
        "        x = self.relu(x)\n",
        "        x = self.conv3(x)\n",
        "        x = self.bn3(x)\n",
        "\n",
        "        if self.identity_downsample is not None:\n",
        "            identity = self.identity_downsample(identity)\n",
        "\n",
        "        x += identity\n",
        "        x = self.relu(x)\n",
        "        return x\n",
        "\n",
        "class ResNet(nn.Module): # [3, 4, 6, 3]\n",
        "    def __init__(self, block, layers, image_channels, num_classes):\n",
        "        super(ResNet, self).__init__()\n",
        "        self.in_channels = 64\n",
        "        self.conv1 = nn.Conv2d(image_channels, 64, kernel_size=7, stride=2, padding=3)\n",
        "        self.bn1 = nn.BatchNorm2d(64)\n",
        "        self.relu = nn.ReLU()\n",
        "        self.maxpool = nn.MaxPool2d(kernel_size=3, stride=2, padding=1)\n",
        "\n",
        "        #ResNet layers\n",
        "        self.layer1 = self._make_layer(block, layers[0], out_channels=64, stride=1)\n",
        "        self.layer2 = self._make_layer(block, layers[1], out_channels=128, stride=2)\n",
        "        self.layer3 = self._make_layer(block, layers[2], out_channels=256, stride=2)\n",
        "        self.layer4 = self._make_layer(block, layers[3], out_channels=512, stride=2) #2048 channels at end\n",
        "\n",
        "        self.avgpool = nn.AdaptiveAvgPool2d((1,1))\n",
        "        self.fc = nn.Linear(512 * 4, num_classes)\n",
        "\n",
        "    def forward(self, x):\n",
        "        x = self.conv1(x)\n",
        "        x = self.bn1(x)\n",
        "        x = self.relu(x)\n",
        "        x = self.maxpool(x)\n",
        "\n",
        "        x = self.layer1(x)\n",
        "        x = self.layer2(x)\n",
        "        x = self.layer3(x)\n",
        "        x = self.layer4(x)\n",
        "\n",
        "        x = self.avgpool(x)\n",
        "        x = x.reshape(x.shape[0], -1)\n",
        "        x = self.fc(x)\n",
        "        return x\n",
        "\n",
        "    def _make_layer(self, block, num_residual_blocks, out_channels, stride):\n",
        "        identity_downsample = None\n",
        "        layers = []\n",
        "\n",
        "        if stride != 1 or self.in_channels != out_channels * 4:\n",
        "            identity_downsample = nn.Sequential(nn.Conv2d(self.in_channels, out_channels*4, kernel_size=1,\n",
        "                                                          stride=stride),\n",
        "                                                nn.BatchNorm2d(out_channels*4))\n",
        "\n",
        "        layers.append(block(self.in_channels, out_channels, identity_downsample, stride))\n",
        "        self.in_channels = out_channels*4 #256 in channels\n",
        "\n",
        "        for i in range(num_residual_blocks - 1):\n",
        "            layers.append(block(self.in_channels, out_channels)) # 256 in channels, 64 out channels. 256 -> 64, 64*4 (256) again\n",
        "\n",
        "        return nn.Sequential(*layers)\n",
        "\n",
        "\n",
        "def ResNet50(img_channels=3, num_classes=2):\n",
        "    return ResNet(block, [3, 4, 6, 3], img_channels, num_classes)\n",
        "\n",
        "def ResNet101(img_channels=3, num_classes=2):\n",
        "    return ResNet(block, [3, 4, 23, 3], img_channels, num_classes)\n",
        "\n",
        "def ResNet152(img_channels=3, num_classes=2):\n",
        "    return ResNet(block, [3, 8, 36, 3], img_channels, num_classes)\n"
      ]
    },
    {
      "cell_type": "code",
      "source": [
        "#Choosing ResNet type\n",
        "model = ResNet50()\n",
        "#model = ResNet101()\n",
        "#model = ResNet152()"
      ],
      "metadata": {
        "id": "r9VmuzyS9r6Y"
      },
      "execution_count": null,
      "outputs": []
    },
    {
      "cell_type": "code",
      "source": [
        "if torch.cuda.is_available():\n",
        "    model.cuda()"
      ],
      "metadata": {
        "id": "NQ3GBuIl9sdg"
      },
      "execution_count": null,
      "outputs": []
    },
    {
      "cell_type": "markdown",
      "metadata": {
        "id": "f1dyk_TGPu73"
      },
      "source": [
        "##5. Testing Model"
      ]
    },
    {
      "cell_type": "code",
      "execution_count": null,
      "metadata": {
        "id": "QcsXcSO3PuA7"
      },
      "outputs": [],
      "source": [
        "def test():\n",
        "    net = ResNet152()\n",
        "    x = torch.randn(2, 3, 224, 224)\n",
        "    y = net(x).to('cpu') #change to cuda\n",
        "    print(y.shape) "
      ]
    },
    {
      "cell_type": "code",
      "execution_count": null,
      "metadata": {
        "colab": {
          "base_uri": "https://localhost:8080/"
        },
        "id": "AY1sGAGYPy05",
        "outputId": "eb28a5f1-8b02-4b6f-a97c-50cef777b534"
      },
      "outputs": [
        {
          "output_type": "stream",
          "name": "stdout",
          "text": [
            "torch.Size([2, 2])\n"
          ]
        }
      ],
      "source": [
        "test()"
      ]
    },
    {
      "cell_type": "markdown",
      "metadata": {
        "id": "4Ts-Y_GmP1d2"
      },
      "source": [
        "##6. Defining Main Training"
      ]
    },
    {
      "cell_type": "code",
      "execution_count": null,
      "metadata": {
        "id": "OFI29VFCP5EE"
      },
      "outputs": [],
      "source": [
        "# Hyper-parameters\n",
        "num_epochs = 30\n",
        "learning_rate = 0.001\n",
        "patience = 10"
      ]
    },
    {
      "cell_type": "code",
      "execution_count": null,
      "metadata": {
        "colab": {
          "base_uri": "https://localhost:8080/"
        },
        "id": "v0PQts-aP5f5",
        "outputId": "be92b974-a54c-4aca-aa41-f73b82c74fec"
      },
      "outputs": [
        {
          "output_type": "stream",
          "name": "stdout",
          "text": [
            "Epoch [1/30], Step [100/652] Loss: 0.9314\n",
            "Epoch [1/30], Step [200/652] Loss: 0.5341\n",
            "Epoch [1/30], Step [300/652] Loss: 0.3641\n",
            "Epoch [1/30], Step [400/652] Loss: 0.7118\n",
            "Epoch [1/30], Step [500/652] Loss: 0.6268\n",
            "Epoch [1/30], Step [600/652] Loss: 0.6328\n",
            "Saving model with validation loss of 0.7317...\n",
            "Epoch [2/30], Step [100/652] Loss: 0.8648\n",
            "Epoch [2/30], Step [200/652] Loss: 1.0601\n",
            "Epoch [2/30], Step [300/652] Loss: 0.7649\n",
            "Epoch [2/30], Step [400/652] Loss: 0.7003\n",
            "Epoch [2/30], Step [500/652] Loss: 0.7160\n",
            "Epoch [2/30], Step [600/652] Loss: 0.5637\n",
            "Saving model with validation loss of 0.7097...\n",
            "Epoch [3/30], Step [100/652] Loss: 0.6370\n",
            "Epoch [3/30], Step [200/652] Loss: 0.6532\n",
            "Epoch [3/30], Step [300/652] Loss: 0.7382\n",
            "Epoch [3/30], Step [400/652] Loss: 0.4637\n",
            "Epoch [3/30], Step [500/652] Loss: 0.7120\n",
            "Epoch [3/30], Step [600/652] Loss: 0.6293\n",
            "Epoch [4/30], Step [100/652] Loss: 0.5432\n",
            "Epoch [4/30], Step [200/652] Loss: 0.6032\n",
            "Epoch [4/30], Step [300/652] Loss: 0.4208\n",
            "Epoch [4/30], Step [400/652] Loss: 0.5315\n",
            "Epoch [4/30], Step [500/652] Loss: 0.5156\n",
            "Epoch [4/30], Step [600/652] Loss: 0.4072\n",
            "Epoch [5/30], Step [100/652] Loss: 0.5403\n",
            "Epoch [5/30], Step [200/652] Loss: 0.9552\n",
            "Epoch [5/30], Step [300/652] Loss: 0.6000\n",
            "Epoch [5/30], Step [400/652] Loss: 0.5570\n",
            "Epoch [5/30], Step [500/652] Loss: 0.7876\n",
            "Epoch [5/30], Step [600/652] Loss: 0.4771\n",
            "Epoch [6/30], Step [100/652] Loss: 0.4738\n",
            "Epoch [6/30], Step [200/652] Loss: 1.1647\n",
            "Epoch [6/30], Step [300/652] Loss: 0.6545\n",
            "Epoch [6/30], Step [400/652] Loss: 0.6907\n",
            "Epoch [6/30], Step [500/652] Loss: 0.2998\n",
            "Epoch [6/30], Step [600/652] Loss: 0.4967\n",
            "Epoch [7/30], Step [100/652] Loss: 0.5501\n",
            "Epoch [7/30], Step [200/652] Loss: 0.3695\n",
            "Epoch [7/30], Step [300/652] Loss: 0.3956\n",
            "Epoch [7/30], Step [400/652] Loss: 0.4032\n",
            "Epoch [7/30], Step [500/652] Loss: 0.5281\n",
            "Epoch [7/30], Step [600/652] Loss: 0.4649\n",
            "Epoch [8/30], Step [100/652] Loss: 0.6211\n",
            "Epoch [8/30], Step [200/652] Loss: 0.7409\n",
            "Epoch [8/30], Step [300/652] Loss: 0.3412\n",
            "Epoch [8/30], Step [400/652] Loss: 0.9324\n",
            "Epoch [8/30], Step [500/652] Loss: 0.7413\n",
            "Epoch [8/30], Step [600/652] Loss: 0.4052\n",
            "Epoch [9/30], Step [100/652] Loss: 0.2902\n",
            "Epoch [9/30], Step [200/652] Loss: 0.2713\n",
            "Epoch [9/30], Step [300/652] Loss: 0.4527\n",
            "Epoch [9/30], Step [400/652] Loss: 0.4885\n",
            "Epoch [9/30], Step [500/652] Loss: 0.4884\n",
            "Epoch [9/30], Step [600/652] Loss: 0.2216\n",
            "Epoch [10/30], Step [100/652] Loss: 0.4486\n",
            "Epoch [10/30], Step [200/652] Loss: 1.1589\n",
            "Epoch [10/30], Step [300/652] Loss: 0.5303\n",
            "Epoch [10/30], Step [400/652] Loss: 0.7602\n",
            "Epoch [10/30], Step [500/652] Loss: 0.2766\n",
            "Epoch [10/30], Step [600/652] Loss: 0.5059\n",
            "Epoch [11/30], Step [100/652] Loss: 0.5935\n",
            "Epoch [11/30], Step [200/652] Loss: 0.7095\n",
            "Epoch [11/30], Step [300/652] Loss: 1.6066\n",
            "Epoch [11/30], Step [400/652] Loss: 0.5382\n",
            "Epoch [11/30], Step [500/652] Loss: 0.5668\n",
            "Epoch [11/30], Step [600/652] Loss: 0.7853\n",
            "Epoch [12/30], Step [100/652] Loss: 0.8233\n",
            "Epoch [12/30], Step [200/652] Loss: 0.9725\n",
            "Epoch [12/30], Step [300/652] Loss: 0.4395\n",
            "Epoch [12/30], Step [400/652] Loss: 0.2827\n",
            "Epoch [12/30], Step [500/652] Loss: 0.2634\n",
            "Epoch [12/30], Step [600/652] Loss: 1.1032\n",
            "Epoch [13/30], Step [100/652] Loss: 0.6356\n",
            "Epoch [13/30], Step [200/652] Loss: 0.8736\n",
            "Epoch [13/30], Step [300/652] Loss: 0.3745\n",
            "Epoch [13/30], Step [400/652] Loss: 0.4492\n",
            "Epoch [13/30], Step [500/652] Loss: 0.3981\n",
            "Epoch [13/30], Step [600/652] Loss: 1.0922\n",
            "Epoch [14/30], Step [100/652] Loss: 0.4232\n",
            "Epoch [14/30], Step [200/652] Loss: 0.4651\n",
            "Epoch [14/30], Step [300/652] Loss: 0.5936\n",
            "Epoch [14/30], Step [400/652] Loss: 0.7606\n",
            "Epoch [14/30], Step [500/652] Loss: 0.5976\n",
            "Epoch [14/30], Step [600/652] Loss: 0.4131\n",
            "Epoch [15/30], Step [100/652] Loss: 0.4398\n",
            "Epoch [15/30], Step [200/652] Loss: 0.6410\n",
            "Epoch [15/30], Step [300/652] Loss: 0.2874\n",
            "Epoch [15/30], Step [400/652] Loss: 0.2539\n",
            "Epoch [15/30], Step [500/652] Loss: 0.3802\n",
            "Epoch [15/30], Step [600/652] Loss: 0.6081\n",
            "Epoch [16/30], Step [100/652] Loss: 0.4231\n",
            "Epoch [16/30], Step [200/652] Loss: 0.3382\n",
            "Epoch [16/30], Step [300/652] Loss: 0.3281\n",
            "Epoch [16/30], Step [400/652] Loss: 0.1853\n",
            "Epoch [16/30], Step [500/652] Loss: 0.5432\n",
            "Epoch [16/30], Step [600/652] Loss: 0.3166\n",
            "Epoch [17/30], Step [100/652] Loss: 0.4872\n",
            "Epoch [17/30], Step [200/652] Loss: 0.7507\n",
            "Epoch [17/30], Step [300/652] Loss: 0.4252\n",
            "Epoch [17/30], Step [400/652] Loss: 0.9464\n",
            "Epoch [17/30], Step [500/652] Loss: 1.1196\n",
            "Epoch [17/30], Step [600/652] Loss: 0.2008\n",
            "Epoch [18/30], Step [100/652] Loss: 0.7806\n",
            "Epoch [18/30], Step [200/652] Loss: 0.5223\n",
            "Epoch [18/30], Step [300/652] Loss: 0.3320\n",
            "Epoch [18/30], Step [400/652] Loss: 0.2671\n",
            "Epoch [18/30], Step [500/652] Loss: 0.4756\n",
            "Epoch [18/30], Step [600/652] Loss: 0.5601\n",
            "Saving model with validation loss of 0.6871...\n",
            "Epoch [19/30], Step [100/652] Loss: 0.5929\n",
            "Epoch [19/30], Step [200/652] Loss: 0.4160\n",
            "Epoch [19/30], Step [300/652] Loss: 0.4429\n",
            "Epoch [19/30], Step [400/652] Loss: 0.5014\n",
            "Epoch [19/30], Step [500/652] Loss: 0.5777\n",
            "Epoch [19/30], Step [600/652] Loss: 0.4823\n",
            "Epoch [20/30], Step [100/652] Loss: 0.6757\n",
            "Epoch [20/30], Step [200/652] Loss: 0.5297\n",
            "Epoch [20/30], Step [300/652] Loss: 0.1705\n",
            "Epoch [20/30], Step [400/652] Loss: 0.4069\n",
            "Epoch [20/30], Step [500/652] Loss: 0.3123\n",
            "Epoch [20/30], Step [600/652] Loss: 0.6822\n",
            "Epoch [21/30], Step [100/652] Loss: 0.5748\n",
            "Epoch [21/30], Step [200/652] Loss: 0.2582\n",
            "Epoch [21/30], Step [300/652] Loss: 0.4510\n",
            "Epoch [21/30], Step [400/652] Loss: 0.4033\n",
            "Epoch [21/30], Step [500/652] Loss: 0.9412\n",
            "Epoch [21/30], Step [600/652] Loss: 0.2971\n",
            "Epoch [22/30], Step [100/652] Loss: 0.5743\n",
            "Epoch [22/30], Step [200/652] Loss: 0.1750\n",
            "Epoch [22/30], Step [300/652] Loss: 0.4202\n",
            "Epoch [22/30], Step [400/652] Loss: 0.1875\n",
            "Epoch [22/30], Step [500/652] Loss: 0.3797\n",
            "Epoch [22/30], Step [600/652] Loss: 0.3194\n",
            "Epoch [23/30], Step [100/652] Loss: 0.2762\n",
            "Epoch [23/30], Step [200/652] Loss: 0.2639\n",
            "Epoch [23/30], Step [300/652] Loss: 0.6144\n",
            "Epoch [23/30], Step [400/652] Loss: 0.4997\n",
            "Epoch [23/30], Step [500/652] Loss: 0.6477\n",
            "Epoch [23/30], Step [600/652] Loss: 0.6396\n",
            "Epoch [24/30], Step [100/652] Loss: 0.5965\n",
            "Epoch [24/30], Step [200/652] Loss: 0.5698\n",
            "Epoch [24/30], Step [300/652] Loss: 0.1298\n",
            "Epoch [24/30], Step [400/652] Loss: 0.5190\n",
            "Epoch [24/30], Step [500/652] Loss: 0.2835\n",
            "Epoch [24/30], Step [600/652] Loss: 0.4385\n",
            "Epoch [25/30], Step [100/652] Loss: 0.1527\n",
            "Epoch [25/30], Step [200/652] Loss: 0.5058\n",
            "Epoch [25/30], Step [300/652] Loss: 0.6851\n",
            "Epoch [25/30], Step [400/652] Loss: 0.2747\n",
            "Epoch [25/30], Step [500/652] Loss: 0.8932\n",
            "Epoch [25/30], Step [600/652] Loss: 1.3372\n",
            "Epoch [26/30], Step [100/652] Loss: 0.4712\n",
            "Epoch [26/30], Step [200/652] Loss: 0.3541\n",
            "Epoch [26/30], Step [300/652] Loss: 0.1953\n",
            "Epoch [26/30], Step [400/652] Loss: 0.2687\n",
            "Epoch [26/30], Step [500/652] Loss: 0.2322\n",
            "Epoch [26/30], Step [600/652] Loss: 0.1447\n",
            "Epoch [27/30], Step [100/652] Loss: 0.1202\n",
            "Epoch [27/30], Step [200/652] Loss: 0.2729\n",
            "Epoch [27/30], Step [300/652] Loss: 0.3822\n",
            "Epoch [27/30], Step [400/652] Loss: 0.2520\n",
            "Epoch [27/30], Step [500/652] Loss: 0.3149\n",
            "Epoch [27/30], Step [600/652] Loss: 0.4119\n",
            "Epoch [28/30], Step [100/652] Loss: 0.5049\n",
            "Epoch [28/30], Step [200/652] Loss: 0.7659\n",
            "Epoch [28/30], Step [300/652] Loss: 0.2163\n",
            "Epoch [28/30], Step [400/652] Loss: 0.5021\n",
            "Epoch [28/30], Step [500/652] Loss: 0.1178\n",
            "Epoch [28/30], Step [600/652] Loss: 0.4727\n",
            "Epoch [29/30], Step [100/652] Loss: 0.3019\n",
            "Epoch [29/30], Step [200/652] Loss: 0.2067\n",
            "Epoch [29/30], Step [300/652] Loss: 0.4022\n",
            "Epoch [29/30], Step [400/652] Loss: 0.4176\n",
            "Epoch [29/30], Step [500/652] Loss: 0.3052\n",
            "Epoch [29/30], Step [600/652] Loss: 0.3162\n",
            "Epoch [30/30], Step [100/652] Loss: 0.7254\n",
            "Epoch [30/30], Step [200/652] Loss: 0.1559\n",
            "Epoch [30/30], Step [300/652] Loss: 0.2513\n",
            "Epoch [30/30], Step [400/652] Loss: 0.5623\n",
            "Epoch [30/30], Step [500/652] Loss: 0.2042\n",
            "Epoch [30/30], Step [600/652] Loss: 0.5601\n"
          ]
        }
      ],
      "source": [
        "# Loss and optimizer\n",
        "criterion = nn.CrossEntropyLoss(weight=class_weights)\n",
        "optimizer = torch.optim.Adam(model.parameters(), lr=learning_rate)\n",
        "\n",
        "curr_lr = learning_rate\n",
        "total_step = len(train_loader)\n",
        "\n",
        "# Early stopping parameters\n",
        "early_stopping_counter = 0\n",
        "best_loss = float('inf')\n",
        "\n",
        "# For updating learning rate\n",
        "def update_lr(optimizer, lr):    \n",
        "    for param_group in optimizer.param_groups:\n",
        "        param_group['lr'] = lr\n",
        "\n",
        "\n",
        "for epoch in range(num_epochs):\n",
        "    for i, (images, labels) in enumerate(train_loader):\n",
        "        images, labels = images.to(device), labels.to(device)\n",
        "        \n",
        "        # Forward pass\n",
        "        outputs = model(images)\n",
        "        loss = criterion(outputs, labels)\n",
        "        \n",
        "        # Backward and optimize\n",
        "        optimizer.zero_grad()\n",
        "        loss.backward()\n",
        "        optimizer.step()\n",
        "        \n",
        "        if (i+1) % 100 == 0:\n",
        "            print (\"Epoch [{}/{}], Step [{}/{}] Loss: {:.4f}\"\n",
        "                   .format(epoch+1, num_epochs, i+1, total_step, loss.item()))\n",
        "    \n",
        "    # Decay learning rate\n",
        "    if (epoch+1) % 20 == 0:\n",
        "        curr_lr /= 3\n",
        "        update_lr(optimizer, curr_lr)\n",
        "\n",
        "    # Calculate validation loss\n",
        "    with torch.no_grad():\n",
        "        val_loss = 0\n",
        "        for images, labels in val_loader:\n",
        "            images, labels = images.to(device), labels.to(device)\n",
        "            outputs = model(images)\n",
        "            val_loss += criterion(outputs, labels)\n",
        "        val_loss /= len(val_loader)\n",
        "\n",
        "        # Save the model if the validation loss is the best observed yet\n",
        "        if val_loss < best_loss:\n",
        "            print(f'Saving model with validation loss of {val_loss:.4f}...')\n",
        "            torch.save(model.state_dict(), 'best_model.pth')\n",
        "            best_loss = val_loss\n",
        "\n",
        "    # Early stopping if overfitting\n",
        "    if early_stopping_counter >= patience:\n",
        "        print(f'Validation loss has not improved for {patience} epochs. Early stopping...')\n",
        "        break\n",
        "    elif val_loss < best_loss:\n",
        "        best_loss = val_loss\n",
        "        early_stopping_counter = 0\n"
      ]
    },
    {
      "cell_type": "markdown",
      "metadata": {
        "id": "PXmE1g9WQ6_2"
      },
      "source": [
        "##7. Testing"
      ]
    },
    {
      "cell_type": "code",
      "execution_count": null,
      "metadata": {
        "id": "yW_Iy6SqQ8qE",
        "colab": {
          "base_uri": "https://localhost:8080/"
        },
        "outputId": "defa4cd6-eb31-46d5-e645-9386c5a1b906"
      },
      "outputs": [
        {
          "output_type": "stream",
          "name": "stdout",
          "text": [
            "Model accuracy on test images: 72.27564102564102 %\n"
          ]
        }
      ],
      "source": [
        "# Load the saved model checkpoint\n",
        "checkpoint = torch.load('best_model.pth')\n",
        "model.load_state_dict(checkpoint)\n",
        "\n",
        "model.eval()\n",
        "with torch.no_grad():\n",
        "    correct = 0\n",
        "    total = 0\n",
        "    for images, labels in test_loader:\n",
        "        images = images.to(device)\n",
        "        labels = labels.to(device)\n",
        "        outputs = model(images)\n",
        "        _, predicted = torch.max(outputs.data, 1)\n",
        "        total += labels.size(0)\n",
        "        correct += (predicted == labels).sum().item()\n",
        "\n",
        "    print('Model accuracy on test images: {} %'.format(100 * correct / total))"
      ]
    }
  ],
  "metadata": {
    "accelerator": "GPU",
    "colab": {
      "provenance": [],
      "authorship_tag": "ABX9TyNtfS39oT+IL2N3zucVz5EG",
      "include_colab_link": true
    },
    "gpuClass": "standard",
    "kernelspec": {
      "display_name": "Python 3",
      "name": "python3"
    },
    "language_info": {
      "name": "python"
    }
  },
  "nbformat": 4,
  "nbformat_minor": 0
}