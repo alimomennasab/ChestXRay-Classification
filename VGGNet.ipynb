{
  "cells": [
    {
      "cell_type": "markdown",
      "metadata": {
        "id": "view-in-github",
        "colab_type": "text"
      },
      "source": [
        "<a href=\"https://colab.research.google.com/github/alimomennasab/ChestXRay-Classification/blob/main/VGGNet.ipynb\" target=\"_parent\"><img src=\"https://colab.research.google.com/assets/colab-badge.svg\" alt=\"Open In Colab\"/></a>"
      ]
    },
    {
      "cell_type": "markdown",
      "metadata": {
        "id": "Ygk6PDVPHIr6"
      },
      "source": [
        "##1. Setup"
      ]
    },
    {
      "cell_type": "code",
      "execution_count": null,
      "metadata": {
        "id": "HAHbkdSkG_2_"
      },
      "outputs": [],
      "source": [
        "import torch\n",
        "import torch.nn as nn\n",
        "import torch.optim as optim\n",
        "import torchvision.datasets as datasets\n",
        "import torchvision.transforms as transforms\n",
        "from torchvision.datasets import ImageFolder\n",
        "import pandas as pd\n",
        "import os\n",
        "import numpy as np\n",
        "from PIL import Image\n",
        "from glob import glob\n",
        "from torch.utils.data import Dataset, DataLoader\n",
        "from torch.optim.lr_scheduler import ReduceLROnPlateau"
      ]
    },
    {
      "cell_type": "code",
      "execution_count": null,
      "metadata": {
        "colab": {
          "base_uri": "https://localhost:8080/"
        },
        "id": "fml6hIwEe9uZ",
        "outputId": "bc9e47d8-23cf-4a4c-952b-53d02e6e8035"
      },
      "outputs": [
        {
          "output_type": "stream",
          "name": "stdout",
          "text": [
            "Drive already mounted at /content/drive; to attempt to forcibly remount, call drive.mount(\"/content/drive\", force_remount=True).\n"
          ]
        }
      ],
      "source": [
        "from google.colab import drive\n",
        "drive.mount('/content/drive')"
      ]
    },
    {
      "cell_type": "code",
      "execution_count": null,
      "metadata": {
        "id": "L88BsRm5e_0d"
      },
      "outputs": [],
      "source": [
        "device = torch.device('cuda' if torch.cuda.is_available() else 'cpu')"
      ]
    },
    {
      "cell_type": "markdown",
      "metadata": {
        "id": "LDXexK6-HKsl"
      },
      "source": [
        "##2. Loading Data"
      ]
    },
    {
      "cell_type": "code",
      "execution_count": null,
      "metadata": {
        "id": "UviOgCyWP0su"
      },
      "outputs": [],
      "source": [
        "data_dir = '/content/drive/My Drive/chest_xray/'"
      ]
    },
    {
      "cell_type": "code",
      "source": [
        "# Split dataset into training, validation, and test sets\n",
        "train_dir = os.path.join(data_dir, 'train')\n",
        "val_dir = os.path.join(data_dir, 'val')\n",
        "test_dir = os.path.join(data_dir, 'test')"
      ],
      "metadata": {
        "id": "6P8kERi3xXCy"
      },
      "execution_count": null,
      "outputs": []
    },
    {
      "cell_type": "code",
      "execution_count": null,
      "metadata": {
        "colab": {
          "base_uri": "https://localhost:8080/"
        },
        "id": "CCwSI1NRfC6K",
        "outputId": "de93e518-9d9c-4306-ef72-6ecfd45cdfd2"
      },
      "outputs": [
        {
          "output_type": "stream",
          "name": "stdout",
          "text": [
            "['train', 'chest_xray', 'val', '__MACOSX', 'test']\n",
            "['PNEUMONIA', 'NORMAL']\n"
          ]
        }
      ],
      "source": [
        "print(os.listdir(data_dir))\n",
        "classes = os.listdir(data_dir + \"/train\")\n",
        "print(classes)"
      ]
    },
    {
      "cell_type": "code",
      "execution_count": null,
      "metadata": {
        "colab": {
          "base_uri": "https://localhost:8080/"
        },
        "id": "XZGcCiuafFJo",
        "outputId": "ef5f6084-deb1-4013-c26d-1ef98d214876"
      },
      "outputs": [
        {
          "output_type": "stream",
          "name": "stdout",
          "text": [
            "No. of training examples for Pneumonia: 3875\n",
            "['person556_virus_1096.jpeg', 'person536_bacteria_2257.jpeg', 'person581_bacteria_2390.jpeg', 'person592_bacteria_2434.jpeg', 'person581_virus_1125.jpeg']\n"
          ]
        }
      ],
      "source": [
        "# Pneumonia images\n",
        "pneumonia_files = os.listdir(data_dir + \"/train/PNEUMONIA\")\n",
        "print('No. of training examples for Pneumonia:', len(pneumonia_files))\n",
        "print(pneumonia_files[:5])"
      ]
    },
    {
      "cell_type": "code",
      "execution_count": null,
      "metadata": {
        "colab": {
          "base_uri": "https://localhost:8080/"
        },
        "id": "2p3tYm2SfIze",
        "outputId": "e88ee2c8-9612-421d-c9a1-e8ecc9d1313a"
      },
      "outputs": [
        {
          "output_type": "stream",
          "name": "stdout",
          "text": [
            "No. of training examples for Normal: 1341\n",
            "['IM-0526-0001.jpeg', 'IM-0524-0001.jpeg', 'IM-0507-0001.jpeg', 'IM-0508-0001.jpeg', 'IM-0520-0001.jpeg']\n"
          ]
        }
      ],
      "source": [
        "# Normal (healthy) images\n",
        "normal_files = os.listdir(data_dir + \"/train/NORMAL\")\n",
        "print('No. of training examples for Normal:', len(normal_files))\n",
        "print(normal_files[:5])"
      ]
    },
    {
      "cell_type": "code",
      "source": [
        "# There are almost three times more pneumonia images than normal images, so we will use class weighing\n",
        "\n",
        "# Define classes\n",
        "classes = ['NORMAL', 'PNEUMONIA']\n",
        "\n",
        "# Define class weights\n",
        "num_pneumonia_train = len(os.listdir(os.path.join(train_dir, classes[1])))\n",
        "num_normal_train = len(os.listdir(os.path.join(train_dir, classes[0])))\n",
        "total_train = num_pneumonia_train + num_normal_train\n",
        "class_weights = torch.tensor([total_train/num_normal_train, total_train/num_pneumonia_train]).to(device)"
      ],
      "metadata": {
        "id": "Z8x17yuNl5-O"
      },
      "execution_count": null,
      "outputs": []
    },
    {
      "cell_type": "markdown",
      "metadata": {
        "id": "XwugW03JfXmV"
      },
      "source": [
        "##3. Preparing Dataset and DataLoader"
      ]
    },
    {
      "cell_type": "code",
      "execution_count": null,
      "metadata": {
        "id": "cD-0C0dofMSI"
      },
      "outputs": [],
      "source": [
        "# Define transforms\n",
        "train_transform = transforms.Compose([\n",
        "    transforms.RandomResizedCrop(224),\n",
        "    transforms.RandomHorizontalFlip(),\n",
        "    transforms.RandomAffine(degrees=10, translate=(0.05,0.05)),\n",
        "    transforms.ColorJitter(brightness=0.4, contrast=0.4, saturation=0.4, hue=0.1),\n",
        "    transforms.ToTensor(),\n",
        "    transforms.Normalize((0.5), (0.5))\n",
        "])\n",
        "\n",
        "val_and_test_transform = transforms.Compose([\n",
        "    transforms.Resize(256),\n",
        "    transforms.CenterCrop(224),\n",
        "    transforms.ToTensor(),\n",
        "    transforms.Normalize((0.5), (0.5))\n",
        "])"
      ]
    },
    {
      "cell_type": "code",
      "execution_count": null,
      "metadata": {
        "id": "TV6ByPKRfM3b"
      },
      "outputs": [],
      "source": [
        "# Define data directories. We won't use a custom class because the dataset is already well-formatted.\n",
        "\n",
        "train_dataset = ImageFolder('/content/drive/My Drive/chest_xray/train', transform = train_transform)\n",
        "val_dataset = ImageFolder('/content/drive/My Drive/chest_xray/val', transform = val_and_test_transform)\n",
        "test_dataset = ImageFolder('/content/drive/My Drive/chest_xray/test', transform = val_and_test_transform)\n",
        "\n",
        "train_loader = DataLoader(train_dataset, batch_size = 16, shuffle = True)\n",
        "val_loader = DataLoader(val_dataset, batch_size = 16, shuffle = False)\n",
        "test_loader = DataLoader(test_dataset, batch_size = 16, shuffle = False)"
      ]
    },
    {
      "cell_type": "markdown",
      "metadata": {
        "id": "KYHg4dMvOX1c"
      },
      "source": [
        "##4. Defining Model"
      ]
    },
    {
      "cell_type": "code",
      "execution_count": null,
      "metadata": {
        "id": "Z5-ffd8-P3KS"
      },
      "outputs": [],
      "source": [
        "VGG_types = {\n",
        "'VGG11' : [64, 'M', 128, 'M', 256, 256, 'M', 512, 512, 'M', 512, 512, 'M'],\n",
        "'VGG13' : [64, 64, 'M', 128, 128, 'M', 256, 256, 'M', 512, 512, 'M', 512, 512, 'M'],\n",
        "'VGG16' : [64, 64, 'M', 128, 128, 'M', 256, 256, 256, 'M', 512, 512, 512, 'M', 512, 512, 512, 'M'],\n",
        "'VGG19' : [64, 64, 'M', 128, 128, 'M', 256, 256, 256, 256, 'M', 512, 512, 512, 512, 'M', 512, 512, 512, 512, 'M']\n",
        "}\n",
        "\n",
        "# Then flatten and 4096 x 4096 x 1000 Linear Layers"
      ]
    },
    {
      "cell_type": "code",
      "execution_count": null,
      "metadata": {
        "id": "GAv8cioqSBUP"
      },
      "outputs": [],
      "source": [
        "class VGG_net(nn.Module):\n",
        "    def __init__(self, in_channels = 3, num_classes = 2):\n",
        "        super(VGG_net, self).__init__()\n",
        "        self.in_channels = in_channels\n",
        "        self.conv_layers = self.create_conv_layers(VGG_types['VGG19']) # change VGG type here\n",
        "\n",
        "        self.fcs = nn.Sequential(\n",
        "            nn.Linear(512*7*7, 4096),\n",
        "            nn.ReLU(),\n",
        "            nn.Dropout(p=0.5),\n",
        "            nn.Linear(4096,4096),\n",
        "            nn.ReLU(),\n",
        "            nn.Dropout(p=0.5),\n",
        "            nn.Linear(4096, num_classes)\n",
        "        )\n",
        "\n",
        "    def forward(self, x):\n",
        "            x = self.conv_layers(x)\n",
        "            x = x.reshape(x.shape[0], -1)\n",
        "            x = self.fcs(x)\n",
        "            return x\n",
        "\n",
        "    def create_conv_layers(self, architecture):\n",
        "            layers = []\n",
        "            in_channels = self.in_channels\n",
        "\n",
        "            for x in architecture:\n",
        "                if type(x) == int:\n",
        "                    out_channels = x\n",
        "\n",
        "                    layers += [nn.Conv2d(in_channels=in_channels, out_channels = out_channels,\n",
        "                                         kernel_size=(3,3), stride=(1,1), padding= (1,1)),\n",
        "                                         nn.BatchNorm2d(x),\n",
        "                                         nn.ReLU()]\n",
        "                    in_channels = x\n",
        "                elif x == 'M':\n",
        "                    layers += [nn.MaxPool2d(kernel_size=(2,2), stride= (2,2))]\n",
        "\n",
        "            return nn.Sequential(*layers)\n",
        "\n",
        "            return nn.Sequential(*layers)"
      ]
    },
    {
      "cell_type": "code",
      "execution_count": null,
      "metadata": {
        "id": "EEI_SGeUPrjH"
      },
      "outputs": [],
      "source": [
        "# Initializing model\n",
        "model = VGG_net(in_channels=3, num_classes=2).to(device)"
      ]
    },
    {
      "cell_type": "code",
      "execution_count": null,
      "metadata": {
        "id": "ocz96b5Lknfu"
      },
      "outputs": [],
      "source": [
        "if torch.cuda.is_available():\n",
        "    model.cuda()"
      ]
    },
    {
      "cell_type": "markdown",
      "metadata": {
        "id": "bHY1-iaHPRpK"
      },
      "source": [
        "##5. Testing Model"
      ]
    },
    {
      "cell_type": "code",
      "execution_count": null,
      "metadata": {
        "colab": {
          "base_uri": "https://localhost:8080/"
        },
        "id": "fNjxGEWOP434",
        "outputId": "ae58ab6a-6b68-4833-deab-04b01a53783f"
      },
      "outputs": [
        {
          "output_type": "stream",
          "name": "stdout",
          "text": [
            "torch.Size([1, 2])\n"
          ]
        }
      ],
      "source": [
        "x = torch.randn(1, 3, 224, 224)\n",
        "x = x.to(device) \n",
        "print(model(x).shape)"
      ]
    },
    {
      "cell_type": "markdown",
      "metadata": {
        "id": "oVRD_qABPVuV"
      },
      "source": [
        "##6. Defining Main Training Loop"
      ]
    },
    {
      "cell_type": "code",
      "execution_count": null,
      "metadata": {
        "id": "e_n9lHhpelpw"
      },
      "outputs": [],
      "source": [
        "# Hyper-parameters\n",
        "num_epochs = 30\n",
        "learning_rate = 0.001\n",
        "patience = 10"
      ]
    },
    {
      "cell_type": "code",
      "execution_count": null,
      "metadata": {
        "colab": {
          "base_uri": "https://localhost:8080/"
        },
        "id": "38y7PQemP55D",
        "outputId": "52253e61-289b-40a1-d972-60f34245e7ad"
      },
      "outputs": [
        {
          "output_type": "stream",
          "name": "stdout",
          "text": [
            "Epoch [1/30], Step [100/326] Loss: 0.7106\n",
            "Epoch [1/30], Step [200/326] Loss: 0.7117\n",
            "Epoch [1/30], Step [300/326] Loss: 0.6990\n",
            "Saving model with validation loss of 0.6644...\n",
            "Epoch [2/30], Step [100/326] Loss: 0.6917\n",
            "Epoch [2/30], Step [200/326] Loss: 0.6744\n",
            "Epoch [2/30], Step [300/326] Loss: 0.6996\n",
            "Epoch [3/30], Step [100/326] Loss: 0.6982\n",
            "Epoch [3/30], Step [200/326] Loss: 0.6797\n",
            "Epoch [3/30], Step [300/326] Loss: 0.6975\n",
            "Epoch [4/30], Step [100/326] Loss: 0.6969\n",
            "Epoch [4/30], Step [200/326] Loss: 0.6872\n",
            "Epoch [4/30], Step [300/326] Loss: 0.6967\n",
            "Epoch [5/30], Step [100/326] Loss: 0.6650\n",
            "Epoch [5/30], Step [200/326] Loss: 0.6837\n",
            "Epoch [5/30], Step [300/326] Loss: 0.7110\n",
            "Epoch [6/30], Step [100/326] Loss: 0.7031\n",
            "Epoch [6/30], Step [200/326] Loss: 0.6994\n",
            "Epoch [6/30], Step [300/326] Loss: 0.6731\n",
            "Epoch [7/30], Step [100/326] Loss: 0.6857\n",
            "Epoch [7/30], Step [200/326] Loss: 0.7042\n",
            "Epoch [7/30], Step [300/326] Loss: 0.6753\n",
            "Epoch [8/30], Step [100/326] Loss: 0.7005\n",
            "Epoch [8/30], Step [200/326] Loss: 0.6918\n",
            "Epoch [8/30], Step [300/326] Loss: 0.7094\n",
            "Epoch [9/30], Step [100/326] Loss: 0.6899\n",
            "Epoch [9/30], Step [200/326] Loss: 0.6920\n",
            "Epoch [9/30], Step [300/326] Loss: 0.6930\n",
            "Epoch [10/30], Step [100/326] Loss: 0.6881\n",
            "Epoch [10/30], Step [200/326] Loss: 0.6911\n",
            "Epoch [10/30], Step [300/326] Loss: 0.7052\n",
            "Epoch [11/30], Step [100/326] Loss: 0.6779\n",
            "Epoch [11/30], Step [200/326] Loss: 0.6619\n",
            "Epoch [11/30], Step [300/326] Loss: 0.7010\n",
            "Epoch [12/30], Step [100/326] Loss: 0.6595\n",
            "Epoch [12/30], Step [200/326] Loss: 0.7100\n",
            "Epoch [12/30], Step [300/326] Loss: 0.6862\n",
            "Epoch [13/30], Step [100/326] Loss: 0.6440\n",
            "Epoch [13/30], Step [200/326] Loss: 0.6702\n",
            "Epoch [13/30], Step [300/326] Loss: 0.6913\n",
            "Epoch [14/30], Step [100/326] Loss: 0.6859\n",
            "Epoch [14/30], Step [200/326] Loss: 0.6522\n",
            "Epoch [14/30], Step [300/326] Loss: 0.6938\n",
            "Epoch [15/30], Step [100/326] Loss: 0.6809\n",
            "Epoch [15/30], Step [200/326] Loss: 0.6851\n",
            "Epoch [15/30], Step [300/326] Loss: 0.6970\n",
            "Epoch [16/30], Step [100/326] Loss: 0.6947\n",
            "Epoch [16/30], Step [200/326] Loss: 0.6656\n",
            "Epoch [16/30], Step [300/326] Loss: 0.7233\n",
            "Epoch [17/30], Step [100/326] Loss: 0.6896\n",
            "Epoch [17/30], Step [200/326] Loss: 0.6908\n",
            "Epoch [17/30], Step [300/326] Loss: 0.7137\n",
            "Epoch [18/30], Step [100/326] Loss: 0.6885\n",
            "Epoch [18/30], Step [200/326] Loss: 0.6848\n",
            "Epoch [18/30], Step [300/326] Loss: 0.7025\n",
            "Epoch [19/30], Step [100/326] Loss: 1.2691\n",
            "Epoch [19/30], Step [200/326] Loss: 0.6362\n",
            "Epoch [19/30], Step [300/326] Loss: 0.7698\n",
            "Saving model with validation loss of 0.5744...\n",
            "Epoch [20/30], Step [100/326] Loss: 1.0790\n",
            "Epoch [20/30], Step [200/326] Loss: 0.9297\n",
            "Epoch [20/30], Step [300/326] Loss: 1.0187\n",
            "Epoch [21/30], Step [100/326] Loss: 0.6938\n",
            "Epoch [21/30], Step [200/326] Loss: 0.7644\n",
            "Epoch [21/30], Step [300/326] Loss: 0.7165\n",
            "Epoch [22/30], Step [100/326] Loss: 0.6577\n",
            "Epoch [22/30], Step [200/326] Loss: 0.7132\n",
            "Epoch [22/30], Step [300/326] Loss: 0.6783\n",
            "Epoch [23/30], Step [100/326] Loss: 0.6924\n",
            "Epoch [23/30], Step [200/326] Loss: 0.7895\n",
            "Epoch [23/30], Step [300/326] Loss: 0.8105\n",
            "Epoch [24/30], Step [100/326] Loss: 0.7100\n",
            "Epoch [24/30], Step [200/326] Loss: 0.7043\n",
            "Epoch [24/30], Step [300/326] Loss: 0.6440\n",
            "Epoch [25/30], Step [100/326] Loss: 0.7034\n",
            "Epoch [25/30], Step [200/326] Loss: 0.7039\n",
            "Epoch [25/30], Step [300/326] Loss: 0.6899\n",
            "Epoch [26/30], Step [100/326] Loss: 0.7762\n",
            "Epoch [26/30], Step [200/326] Loss: 0.6825\n",
            "Epoch [26/30], Step [300/326] Loss: 0.7251\n",
            "Epoch [27/30], Step [100/326] Loss: 0.6833\n",
            "Epoch [27/30], Step [200/326] Loss: 0.6929\n",
            "Epoch [27/30], Step [300/326] Loss: 0.6747\n",
            "Epoch [28/30], Step [100/326] Loss: 0.6676\n",
            "Epoch [28/30], Step [200/326] Loss: 0.6753\n",
            "Epoch [28/30], Step [300/326] Loss: 0.6712\n",
            "Epoch [29/30], Step [100/326] Loss: 0.5946\n",
            "Epoch [29/30], Step [200/326] Loss: 0.6799\n",
            "Epoch [29/30], Step [300/326] Loss: 0.7691\n",
            "Epoch [30/30], Step [100/326] Loss: 0.6601\n",
            "Epoch [30/30], Step [200/326] Loss: 0.7021\n",
            "Epoch [30/30], Step [300/326] Loss: 0.6782\n"
          ]
        }
      ],
      "source": [
        "# Loss and optimizer\n",
        "criterion = nn.CrossEntropyLoss(weight=class_weights)\n",
        "optimizer = torch.optim.Adam(model.parameters(), lr=learning_rate)\n",
        "\n",
        "curr_lr = learning_rate\n",
        "total_step = len(train_loader)\n",
        "\n",
        "# Early stopping parameters\n",
        "early_stopping_counter = 0\n",
        "best_loss = float('inf')\n",
        "\n",
        "# For updating learning rate\n",
        "def update_lr(optimizer, lr):    \n",
        "    for param_group in optimizer.param_groups:\n",
        "        param_group['lr'] = lr\n",
        "\n",
        "\n",
        "for epoch in range(num_epochs):\n",
        "    for i, (images, labels) in enumerate(train_loader):\n",
        "        images, labels = images.to(device), labels.to(device)\n",
        "        \n",
        "        # Forward pass\n",
        "        outputs = model(images)\n",
        "        loss = criterion(outputs, labels)\n",
        "        \n",
        "        # Backward and optimize\n",
        "        optimizer.zero_grad()\n",
        "        loss.backward()\n",
        "        optimizer.step()\n",
        "        \n",
        "        if (i+1) % 100 == 0:\n",
        "            print (\"Epoch [{}/{}], Step [{}/{}] Loss: {:.4f}\"\n",
        "                   .format(epoch+1, num_epochs, i+1, total_step, loss.item()))\n",
        "    \n",
        "    # Decay learning rate\n",
        "    if (epoch+1) % 20 == 0:\n",
        "        curr_lr /= 3\n",
        "        update_lr(optimizer, curr_lr)\n",
        "\n",
        "    # Calculate validation loss\n",
        "    with torch.no_grad():\n",
        "        val_loss = 0\n",
        "        for images, labels in val_loader:\n",
        "            images, labels = images.to(device), labels.to(device)\n",
        "            outputs = model(images)\n",
        "            val_loss += criterion(outputs, labels)\n",
        "        val_loss /= len(val_loader)\n",
        "\n",
        "        # Save the model if the validation loss is the best observed yet\n",
        "        if val_loss < best_loss:\n",
        "            print(f'Saving model with validation loss of {val_loss:.4f}...')\n",
        "            torch.save(model.state_dict(), 'best_model.pth')\n",
        "            best_loss = val_loss\n",
        "\n",
        "    # Early stopping if overfitting\n",
        "    if early_stopping_counter >= patience:\n",
        "        print(f'Validation loss has not improved for {patience} epochs. Early stopping...')\n",
        "        break\n",
        "    elif val_loss < best_loss:\n",
        "        best_loss = val_loss\n",
        "        early_stopping_counter = 0\n"
      ]
    },
    {
      "cell_type": "markdown",
      "metadata": {
        "id": "n1SBGuhvPcDi"
      },
      "source": [
        "##7. Testing"
      ]
    },
    {
      "cell_type": "code",
      "execution_count": null,
      "metadata": {
        "colab": {
          "base_uri": "https://localhost:8080/"
        },
        "id": "XmKKRiGsP6YQ",
        "outputId": "3028a41a-9bf5-4f82-f92a-32b2b7a61007"
      },
      "outputs": [
        {
          "output_type": "stream",
          "name": "stdout",
          "text": [
            "Model accuracy on test images: 62.82051282051282 %\n"
          ]
        }
      ],
      "source": [
        "# Load the saved model checkpoint\n",
        "checkpoint = torch.load('best_model.pth')\n",
        "model.load_state_dict(checkpoint)\n",
        "\n",
        "model.eval()\n",
        "with torch.no_grad():\n",
        "    correct = 0\n",
        "    total = 0\n",
        "    for images, labels in test_loader:\n",
        "        images = images.to(device)\n",
        "        labels = labels.to(device)\n",
        "        outputs = model(images)\n",
        "        _, predicted = torch.max(outputs.data, 1)\n",
        "        total += labels.size(0)\n",
        "        correct += (predicted == labels).sum().item()\n",
        "\n",
        "    print('Model accuracy on test images: {} %'.format(100 * correct / total))"
      ]
    }
  ],
  "metadata": {
    "accelerator": "GPU",
    "colab": {
      "provenance": [],
      "authorship_tag": "ABX9TyP5716iS6RNGNfOX1yut7oo",
      "include_colab_link": true
    },
    "gpuClass": "standard",
    "kernelspec": {
      "display_name": "Python 3",
      "name": "python3"
    },
    "language_info": {
      "name": "python"
    }
  },
  "nbformat": 4,
  "nbformat_minor": 0
}